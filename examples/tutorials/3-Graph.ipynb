{
 "cells": [
  {
   "cell_type": "markdown",
   "metadata": {},
   "source": [
    "Tutorial 3. Working with Concept Graphs on top of neural wrappers\n",
    "==================================================\n",
    "\n",
    "This is the third tutorial and it focuses on the implementation of the Concepts Graph library, under `neural_wrappers.graph`, with the specifications defined at: https://www.overleaf.com/read/vfbqdgxtxnws. There are 3 main classes `Node`, `Edge` and `Graph`, which we will present immediately.\n",
    "\n",
    "Note: If this tutorial has errors/warnings it is because the API may have changed when running this :)"
   ]
  },
  {
   "cell_type": "markdown",
   "metadata": {},
   "source": [
    "##### 1. Nodes\n",
    "\n",
    "The nodes, represent concepts, and usually have informative names, such as `RGB`, `Depth`, `Semantic` etc. A node must define its name accross the graph, its ground truth key (if any) for the graph to provide ground truth data at each iteration and implement the `getEncoder` and `getDecoder` methods which represent the encoder and decoder of the node that is used to transform the received and sent information alongside edges.\n",
    "\n",
    "Each node has an unique ID (incremented starting from 0), thus we can make multiple instances of the same class, however each will be a new node."
   ]
  },
  {
   "cell_type": "code",
   "execution_count": 1,
   "metadata": {},
   "outputs": [
    {
     "name": "stdout",
     "output_type": "stream",
     "text": [
      "TestNode (ID: 0)\n",
      "TestNode (ID: 1)\n"
     ]
    }
   ],
   "source": [
    "from neural_wrappers.graph import Node\n",
    "\n",
    "node1 = Node(name=\"TestNode\", groundTruthKey=None)\n",
    "node2 = Node(name=\"TestNode\", groundTruthKey=None)\n",
    "\n",
    "print(node1)\n",
    "print(node2)"
   ]
  },
  {
   "cell_type": "markdown",
   "metadata": {},
   "source": [
    "##### 2. Edges\n",
    "\n",
    "The edges represent transforms between two concepts. They are only oriented edges, with one side being an input node and the other an output node. The transformation is done by combining the input node's encoder with the output node's decoder, creating a model. Sometimes some patching may be needed between the two, thus requiring to update the `getModel` method. If not, then simply a `nn.Sequential` list is done between the two sub models.\n",
    "\n",
    "The edge constructor can also update some other important default behaviours, such as the default forward function (send all inputs of the input node to the output node), the default loss function (send all inputs of the output node back to the input node), the edge type or being able to stop the gradients flowing back the computational graph."
   ]
  },
  {
   "cell_type": "code",
   "execution_count": 2,
   "metadata": {},
   "outputs": [
    {
     "name": "stdout",
     "output_type": "stream",
     "text": [
      "Must be implemented by each node!\n"
     ]
    }
   ],
   "source": [
    "from neural_wrappers.graph import Edge\n",
    "try:\n",
    "    edge = Edge(node1, node2)\n",
    "except Exception as e:\n",
    "    print(str(e))"
   ]
  },
  {
   "cell_type": "markdown",
   "metadata": {},
   "source": [
    "Wee see that we cannot instantiate the Edge because the nodes don't implement the encoder/decoder (plus metrics and criterion for decoder) required. So, let's define some simples ones based on FC layers.\n",
    "\n",
    "Node1 will have 5 features and project into 10 features `Node1 5 ---> 10 ---> 7 Node2`\n",
    "\n",
    "Node2 will have 7 features and project into 10 features `Node2 7 ---> 10 ---> 5 Node1`"
   ]
  },
  {
   "cell_type": "code",
   "execution_count": 3,
   "metadata": {},
   "outputs": [
    {
     "name": "stdout",
     "output_type": "stream",
     "text": [
      "Node1 (ID: 2) -> Node2 (ID: 3)\n",
      "Node2 (ID: 3) -> Node1 (ID: 2)\n"
     ]
    }
   ],
   "source": [
    "import numpy as np\n",
    "import torch as tr\n",
    "import torch.nn as nn\n",
    "import torch.nn.functional as F\n",
    "from neural_wrappers.pytorch import NeuralNetworkPyTorch\n",
    "\n",
    "np.random.seed(42)\n",
    "tr.manual_seed(42)\n",
    "tr.backends.cudnn.deterministic = True\n",
    "tr.backends.cudnn.benchmark = False\n",
    "\n",
    "class Model(NeuralNetworkPyTorch):\n",
    "    def __init__(self, dIn, dOut, activationFn=lambda x : x):\n",
    "        super().__init__()\n",
    "        self.fc1 = nn.Linear(in_features=dIn, out_features=dOut)\n",
    "        self.activationFn = activationFn\n",
    "        \n",
    "    def forward(self, x):\n",
    "        y1 = self.activationFn(self.fc1(x))\n",
    "        return y1\n",
    "\n",
    "class MyNode(Node):\n",
    "    def __init__(self, name, groundTruthKey, numFeatures):\n",
    "        super().__init__(name=name, groundTruthKey=groundTruthKey)\n",
    "        self.numFeatures = numFeatures\n",
    "\n",
    "    def getEncoder(self, outputNodeType=None):\n",
    "        return Model(dIn=self.numFeatures, dOut=10, activationFn=F.relu)\n",
    "\n",
    "    def getDecoder(self, inputNodeType=None):\n",
    "        model = Model(dIn=10, dOut=self.numFeatures)\n",
    "        return model\n",
    "    \n",
    "    def getMetrics(self):\n",
    "        return {}\n",
    "    \n",
    "    def getCriterion(self):\n",
    "        return lambda y, t : ((y - t)**2).mean()\n",
    "\n",
    "node1 = MyNode(\"Node1\", \"node1_gt\", 5)\n",
    "node2 = MyNode(\"Node2\", \"node2_gt\", 7)\n",
    "edge1 = Edge(node1, node2)\n",
    "print(edge1)\n",
    "edge2 = Edge(node2, node1)\n",
    "print(edge2)"
   ]
  },
  {
   "cell_type": "markdown",
   "metadata": {},
   "source": [
    "##### 3. Graph\n",
    "\n",
    "The `Graph` class is conceptually just a list of edges, and some predefined execution order. It will receive some ground truth data, using the `DatasetReader` class (or any other type of generators). The `data` and `labels` must be identical and implemented as dictionaries. Based on the `groundTruthKey` of each `Node` instance, the graph will set the `groundTruthData` before each iteration. If the key is set to `None`, then nothing will be set.\n",
    "\n",
    "Then, after setting the ground truth, we go edge by edge, from the start of the graph until the last edge, passing by default **ALL** inputs of each input node to the output node. The loss function is defined by each encoder/decoder and the edge will call this funtion for all its outputs, given the ground truth of each node."
   ]
  },
  {
   "cell_type": "code",
   "execution_count": 4,
   "metadata": {},
   "outputs": [
    {
     "name": "stdout",
     "output_type": "stream",
     "text": [
      "[Model summary]\n",
      "Graph:\n",
      "\t-Node1 (ID: 2) -> Node2 (ID: 3)\n",
      "\t-Node2 (ID: 3) -> Node1 (ID: 2)\n",
      "Parameters count: 272. Trainable parameters: 272.\n",
      "Hyperparameters:\n",
      "\t- Node2 (ID: 3): {'name': 'Node2 (ID: 3)', 'groundTruthKey': 'node2_gt'}\n",
      "\t- Node1 (ID: 2): {'name': 'Node1 (ID: 2)', 'groundTruthKey': 'node1_gt'}\n",
      "\t- Node1 (ID: 2) -> Node2 (ID: 3): {'edgeType': 'edge-edge', 'blockGradients': False}\n",
      "\t- Node2 (ID: 3) -> Node1 (ID: 2): {'edgeType': 'edge-edge', 'blockGradients': False}\n",
      "Metrics:\n",
      "\t- Loss (min)\n",
      "Callbacks: None\n",
      "Optimizer: None\n",
      "Optimizer Scheduler: None\n",
      "GPU: False\n"
     ]
    },
    {
     "data": {
      "image/png": "[encoded data removed]",
      "text/plain": [
       "<Figure size 432x288 with 1 Axes>"
      ]
     },
     "metadata": {
      "needs_background": "light"
     },
     "output_type": "display_data"
    }
   ],
   "source": [
    "from neural_wrappers.graph import Graph\n",
    "import matplotlib.pyplot as plt\n",
    "\n",
    "graph = Graph([edge1, edge2])\n",
    "print(graph.summary())\n",
    "graph.draw(fileName=\"graph\")\n",
    "plt.imshow(plt.imread(\"graph.png\"))\n",
    "!rm graph.png"
   ]
  },
  {
   "cell_type": "markdown",
   "metadata": {},
   "source": [
    "##### 4. Creating the Reader for the Graph using some random data\n",
    "\n",
    "Now that we have the graph defined, we need to create a `Reader` that will give GT data to the nodes. The order of execution is `Node1->Node2` followed by `Node2->Node1`. After the first edge, Node2 will have two possible inputs (`GT` and `Node1->Node2`), by default both are passed. Gradients will also flow back to the first edge for the input generated there, this behaviour is enabled by default but may be desired to be changed.\n",
    "\n",
    "We see one more function that were not defined in the previous tutorial `getData`, which is part of `DatasetReader` and has the purpose of taking all the dimensions defined in `dataDims` and `lbelDims`, which call the transforms (i.e. normalization, converting to float etc.)."
   ]
  },
  {
   "cell_type": "code",
   "execution_count": 5,
   "metadata": {},
   "outputs": [
    {
     "name": "stdout",
     "output_type": "stream",
     "text": [
      "Node: node1_gt. Train: (1000, 5). Validation: (200, 5)\n",
      "Node: node2_gt. Train: (1000, 7). Validation: (200, 7)\n",
      "node1_gt (20, 5)\n",
      "node2_gt (20, 7)\n"
     ]
    }
   ],
   "source": [
    "from neural_wrappers.readers import DatasetReader\n",
    "from neural_wrappers.utilities import getGenerators\n",
    "\n",
    "class Reader(DatasetReader):\n",
    "    def __init__(self, nodes):\n",
    "        allKeys = [node.groundTruthKey for node in nodes]\n",
    "        super().__init__(self, dataDims=allKeys, labelDims=[])\n",
    "        \n",
    "        self.numData = {\n",
    "            \"train\" : 1000,\n",
    "            \"validation\" : 200\n",
    "        }\n",
    "        self.nodes = nodes\n",
    "        self.dataset = {k : self.computeData(k) for k in self.numData}\n",
    "        \n",
    "        for key in allKeys:\n",
    "            print(\"Node: %s. Train: %s. Validation: %s\" % (key, self.dataset[\"train\"][key].shape, self.dataset[\"validation\"][key].shape))\n",
    "    \n",
    "    def computeData(self, k):\n",
    "        N = self.numData[k]\n",
    "        keys = [node.groundTruthKey for node in self.nodes]\n",
    "        numFeatures = [node.numFeatures for node in self.nodes]\n",
    "        means = [i for i in range(len(self.nodes))] # [0, 1, 2, ...]\n",
    "        stds = [i * 2 + 1 for i in range(len(self.nodes))] # [1, 3, 5, ...]\n",
    "        data = {}\n",
    "        for i in range(len(keys)):\n",
    "            key, mean, std = keys[i], means[i], stds[i]\n",
    "            data[key] = std * np.random.randn(N, numFeatures[i]).astype(np.float32) + mean\n",
    "        return data\n",
    "\n",
    "    def iterate_once(self, type, miniBatchSize):\n",
    "        assert type in (\"train\", \"validation\")\n",
    "        dataset = self.dataset[type]\n",
    "        numIterations = self.getNumIterations(type, miniBatchSize, accountTransforms=False)\n",
    "\n",
    "        for i in range(numIterations):\n",
    "            startIndex = i * miniBatchSize\n",
    "            endIndex = min((i + 1) * miniBatchSize, self.numData[type])\n",
    "            assert startIndex < endIndex, \"startIndex < endIndex. Got values: %d %d\" % (startIndex, endIndex)\n",
    "            data, _ = self.getData(dataset, startIndex, endIndex)\n",
    "            yield data, data\n",
    "    \n",
    "reader = Reader(nodes=[node1, node2])\n",
    "trainGenerator, trainNumSteps, valGenerator, valNumSteps = getGenerators(reader, miniBatchSize=20)\n",
    "\n",
    "data = next(trainGenerator)[0]\n",
    "for k in data:\n",
    "    print(k, data[k].shape)"
   ]
  },
  {
   "cell_type": "markdown",
   "metadata": {},
   "source": [
    "##### 5. Training the model\n",
    "\n",
    "Now, we can wrap it all up by training the model given this random data.\n",
    "\n",
    "##### 5.1 Default training"
   ]
  },
  {
   "cell_type": "code",
   "execution_count": 6,
   "metadata": {},
   "outputs": [
    {
     "name": "stdout",
     "output_type": "stream",
     "text": [
      "[SaveModels] Epoch 1. Improvement (Loss) from 12.62 to 12.62\n",
      "[SaveModels] Epoch 2. Improvement (Loss) from 12.18 to 12.18\n",
      "[SaveModels] Epoch 3. Improvement (Loss) from 11.93 to 11.93\n",
      "[SaveModels] Epoch 4. Improvement (Loss) from 11.77 to 11.77\n",
      "[SaveModels] Epoch 5. Improvement (Loss) from 11.66 to 11.66\n",
      "[SaveModels] Epoch 6. Improvement (Loss) from 11.59 to 11.59\n",
      "[SaveModels] Epoch 7. Improvement (Loss) from 11.54 to 11.54\n",
      "[SaveModels] Epoch 8. Improvement (Loss) from 11.51 to 11.51\n",
      "[SaveModels] Epoch 9. Improvement (Loss) from 11.48 to 11.48\n",
      "[SaveModels] Epoch 10. Improvement (Loss) from 11.46 to 11.46\n",
      "[SaveModels] Epoch 11. Improvement (Loss) from 11.45 to 11.45\n",
      "[SaveModels] Epoch 12. Improvement (Loss) from 11.44 to 11.44\n",
      "[SaveModels] Epoch 13. Improvement (Loss) from 11.43 to 11.43\n",
      "[SaveModels] Epoch 14. Improvement (Loss) from 11.42 to 11.42\n",
      "[SaveModels] Epoch 15. Improvement (Loss) from 11.42 to 11.42\n"
     ]
    },
    {
     "data": {
      "image/png": "[encoded data removed]",
      "text/plain": [
       "<Figure size 432x288 with 1 Axes>"
      ]
     },
     "metadata": {
      "needs_background": "light"
     },
     "output_type": "display_data"
    }
   ],
   "source": [
    "import torch.optim as optim\n",
    "from neural_wrappers.callbacks import SaveModels, PlotMetrics\n",
    "tr.manual_seed(42)\n",
    "\n",
    "trainGenerator, trainNumSteps, valGenerator, valNumSteps = getGenerators(reader, miniBatchSize=20)\n",
    "\n",
    "edge1 = Edge(node1, node2)\n",
    "edge2 = Edge(node2, node1)\n",
    "graph = Graph([edge1, edge2])\n",
    "graph.setOptimizer(optim.SGD, lr=0.01)\n",
    "graph.addCallbacks([SaveModels(\"best\"), PlotMetrics([\"Loss\"])])\n",
    "\n",
    "graph.train_generator(trainGenerator, trainNumSteps, 15, valGenerator, valNumSteps, printMessage=None)"
   ]
  },
  {
   "cell_type": "markdown",
   "metadata": {},
   "source": [
    "##### 5.1 Training the model with gradient blocking\n",
    "\n",
    "We said that we may wish to train the model by blocking the gradients flowing back to the original input. We can do this by setting the field `blockGradients` to `True` for the desired `Edge` (Edge 2 in our case)."
   ]
  },
  {
   "cell_type": "code",
   "execution_count": 7,
   "metadata": {},
   "outputs": [
    {
     "name": "stdout",
     "output_type": "stream",
     "text": [
      "[SaveModels] Epoch 1. Improvement (Loss) from 12.63 to 12.63\n",
      "[SaveModels] Epoch 2. Improvement (Loss) from 12.19 to 12.19\n",
      "[SaveModels] Epoch 3. Improvement (Loss) from 11.93 to 11.93\n",
      "[SaveModels] Epoch 4. Improvement (Loss) from 11.77 to 11.77\n",
      "[SaveModels] Epoch 5. Improvement (Loss) from 11.66 to 11.66\n",
      "[SaveModels] Epoch 6. Improvement (Loss) from 11.59 to 11.59\n",
      "[SaveModels] Epoch 7. Improvement (Loss) from 11.54 to 11.54\n",
      "[SaveModels] Epoch 8. Improvement (Loss) from 11.50 to 11.50\n",
      "[SaveModels] Epoch 9. Improvement (Loss) from 11.48 to 11.48\n",
      "[SaveModels] Epoch 10. Improvement (Loss) from 11.46 to 11.46\n",
      "[SaveModels] Epoch 11. Improvement (Loss) from 11.44 to 11.44\n",
      "[SaveModels] Epoch 12. Improvement (Loss) from 11.43 to 11.43\n",
      "[SaveModels] Epoch 13. Improvement (Loss) from 11.42 to 11.42\n",
      "[SaveModels] Epoch 14. Improvement (Loss) from 11.41 to 11.41\n",
      "[SaveModels] Epoch 15. Improvement (Loss) from 11.41 to 11.41\n"
     ]
    },
    {
     "data": {
      "image/png": "[encoded data removed]",
      "text/plain": [
       "<Figure size 432x288 with 1 Axes>"
      ]
     },
     "metadata": {
      "needs_background": "light"
     },
     "output_type": "display_data"
    }
   ],
   "source": [
    "tr.manual_seed(42)\n",
    "\n",
    "trainGenerator, trainNumSteps, valGenerator, valNumSteps = getGenerators(reader, miniBatchSize=20)\n",
    "edge1 = Edge(node1, node2)\n",
    "edge2_block = Edge(node2, node1, blockGradients=True)\n",
    "graph = Graph([edge1, edge2_block])\n",
    "graph.setOptimizer(optim.SGD, lr=0.01)\n",
    "graph.addCallbacks([SaveModels(\"best\"), PlotMetrics([\"Loss\"])])\n",
    "\n",
    "graph.train_generator(trainGenerator, trainNumSteps, 15, valGenerator, valNumSteps, printMessage=None)"
   ]
  },
  {
   "cell_type": "markdown",
   "metadata": {},
   "source": [
    "##### 5.3 Training the model using only predicted output for second link\n",
    "\n",
    "Perhaps we'd like the back edge `Node2 -> Node1` to use only the generated input from the edge `Node1 -> Node2`. We can do this by updating the edge's forward function to not use the `\"GT\"` key."
   ]
  },
  {
   "cell_type": "code",
   "execution_count": 8,
   "metadata": {},
   "outputs": [
    {
     "name": "stdout",
     "output_type": "stream",
     "text": [
      "[SaveModels] Epoch 1. Improvement (Loss) from 11.58 to 11.58\n",
      "[SaveModels] Epoch 2. Improvement (Loss) from 11.19 to 11.19\n",
      "[SaveModels] Epoch 3. Improvement (Loss) from 10.95 to 10.95\n",
      "[SaveModels] Epoch 4. Improvement (Loss) from 10.79 to 10.79\n",
      "[SaveModels] Epoch 5. Improvement (Loss) from 10.68 to 10.68\n",
      "[SaveModels] Epoch 6. Improvement (Loss) from 10.61 to 10.61\n",
      "[SaveModels] Epoch 7. Improvement (Loss) from 10.56 to 10.56\n",
      "[SaveModels] Epoch 8. Improvement (Loss) from 10.52 to 10.52\n",
      "[SaveModels] Epoch 9. Improvement (Loss) from 10.49 to 10.49\n",
      "[SaveModels] Epoch 10. Improvement (Loss) from 10.47 to 10.47\n",
      "[SaveModels] Epoch 11. Improvement (Loss) from 10.45 to 10.45\n",
      "[SaveModels] Epoch 12. Improvement (Loss) from 10.44 to 10.44\n",
      "[SaveModels] Epoch 13. Improvement (Loss) from 10.43 to 10.43\n",
      "[SaveModels] Epoch 14. Improvement (Loss) from 10.41 to 10.41\n",
      "[SaveModels] Epoch 15. Improvement (Loss) from 10.40 to 10.40\n"
     ]
    },
    {
     "data": {
      "image/png": "[encoded data removed]",
      "text/plain": [
       "<Figure size 432x288 with 1 Axes>"
      ]
     },
     "metadata": {
      "needs_background": "light"
     },
     "output_type": "display_data"
    }
   ],
   "source": [
    "# Use all incoming values as inputs, except GT.\n",
    "def forwardUseIntermediateResult(self, x):\n",
    "    A, B, model, edgeID = self.inputNode, self.outputNode, self.model, self.edgeID\n",
    "    edgeInputs, inputNodeKeys = A.getInputs(blockGradients=self.blockGradients)\n",
    "    self.inputs = []\n",
    "    self.outputs = []\n",
    "\n",
    "    for name, x in zip(inputNodeKeys, edgeInputs):\n",
    "        if name == \"GT\":\n",
    "            continue\n",
    "        self.inputs.append(x)\n",
    "        y = model.forward(x)\n",
    "        self.outputs.append(y)\n",
    "    return self.outputs\n",
    "\n",
    "tr.manual_seed(42)\n",
    "trainGenerator, trainNumSteps, valGenerator, valNumSteps = getGenerators(reader, miniBatchSize=20)\n",
    "\n",
    "edge1 = Edge(node1, node2)\n",
    "edge2_no_gt = Edge(node2, node1, forwardFn=forwardUseIntermediateResult)\n",
    "graph = Graph([edge1, edge2_no_gt])\n",
    "graph.setOptimizer(optim.SGD, lr=0.01)\n",
    "graph.addCallbacks([SaveModels(\"best\"), PlotMetrics([\"Loss\"])])\n",
    "\n",
    "graph.train_generator(trainGenerator, trainNumSteps, 15, valGenerator, valNumSteps, printMessage=None)"
   ]
  },
  {
   "cell_type": "code",
   "execution_count": null,
   "metadata": {},
   "outputs": [],
   "source": []
  }
 ],
 "metadata": {
  "kernelspec": {
   "display_name": "Python 3",
   "language": "python",
   "name": "python3"
  },
  "language_info": {
   "codemirror_mode": {
    "name": "ipython",
    "version": 3
   },
   "file_extension": ".py",
   "mimetype": "text/x-python",
   "name": "python",
   "nbconvert_exporter": "python",
   "pygments_lexer": "ipython3",
   "version": "3.8.0"
  }
 },
 "nbformat": 4,
 "nbformat_minor": 2
}
