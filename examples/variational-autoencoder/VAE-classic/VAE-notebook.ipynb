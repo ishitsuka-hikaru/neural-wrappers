{
 "cells": [
  {
   "cell_type": "markdown",
   "metadata": {},
   "source": [
    "Implementation of Variational Auto Encoder (VAE) \n",
    "-------------------------------------------------------------------------\n",
    "Based on http://kvfrans.com/variational-autoencoders-explained/ and https://arxiv.org/abs/1606.05908 using binary MNIST.\n",
    "\n",
    "Mirror: https://gist.github.com/Meehai/e2557f040712f904408b61790c681de0 until GitLab fixes their Notebooks renderer.\n",
    "\n",
    "Notes: loss is used using the empirical MB \\* 28 \\* 28 \\* reconstruction_loss + latent_loss\n",
    "\n",
    "If you get NaNs during training, lower the learning rate or change the optimizer.\n",
    "\n",
    "But first, some imports."
   ]
  },
  {
   "cell_type": "code",
   "execution_count": 1,
   "metadata": {},
   "outputs": [
    {
     "name": "stderr",
     "output_type": "stream",
     "text": [
      "/usr/lib/python3.6/site-packages/h5py/__init__.py:36: FutureWarning: Conversion of the second argument of issubdtype from `float` to `np.floating` is deprecated. In future, it will be treated as `np.float64 == np.dtype(float).type`.\n",
      "  from ._conv import register_converters as _register_converters\n"
     ]
    }
   ],
   "source": [
    "%matplotlib inline\n",
    "import sys\n",
    "import numpy as np\n",
    "from neural_wrappers.readers import MNISTReader\n",
    "from neural_wrappers.pytorch import NeuralNetworkPyTorch, maybeCuda, maybeCpu\n",
    "from neural_wrappers.callbacks import SaveModels, Callback\n",
    "import matplotlib.pyplot as plt\n",
    "from scipy.misc import toimage\n",
    "from PIL import Image\n",
    "\n",
    "import torch as tr\n",
    "import torch.nn as nn\n",
    "import torch.optim as optim\n",
    "from torch.autograd import Variable\n",
    "import torch.nn.functional as F\n"
   ]
  },
  {
   "cell_type": "markdown",
   "metadata": {},
   "source": [
    "First, we're going to take the regular MNIST reader and override the iterate_once method to generate binary data."
   ]
  },
  {
   "cell_type": "code",
   "execution_count": 2,
   "metadata": {},
   "outputs": [],
   "source": [
    "datasetPath = \"/home/mihai/Public/Datasets/mnist/mnist.h5\"\n",
    "\n",
    "\n",
    "class BinaryMNISTReader(MNISTReader):\n",
    "    def iterate_once(self, type, miniBatchSize):\n",
    "        for items in super().iterate_once(type, miniBatchSize):\n",
    "            images, _ = items\n",
    "            # Images are N(0, I), so we can threshold at 0 to get binary values.\n",
    "            images = np.float32(images > 0)\n",
    "            yield images, images"
   ]
  },
  {
   "cell_type": "markdown",
   "metadata": {},
   "source": [
    "Next, let's define the Encoder and Decoder models, using only Fully Connected layers, as this is enough for MNIST.\n",
    "\n",
    "The output of the Encoder is a pair of two vectors, one mean and one std vector, which is going to be optimized by the training process in order to be a normal gaussian: N(0, I). The Decoder takes some generated samples, by some Gaussian process and generate some data.\n",
    "\n",
    "The idea is that using a double crossed loss, one to maximize reconstruction of the dataset, and one to force the encoder to generate a normal gaussian, we can then sample from an actual normal gaussian and generate data similar to our initial dataset."
   ]
  },
  {
   "cell_type": "code",
   "execution_count": 3,
   "metadata": {},
   "outputs": [],
   "source": [
    "class Encoder(NeuralNetworkPyTorch):\n",
    "    def __init__(self, numEncodings):\n",
    "        super().__init__()\n",
    "        self.fc1 = nn.Linear(28 * 28, 100)\n",
    "        self.fc2 = nn.Linear(100, 100)\n",
    "        self.mean_fc = nn.Linear(100, numEncodings)\n",
    "        self.mean_std = nn.Linear(100, numEncodings)\n",
    "\n",
    "    def forward(self, x):\n",
    "        x = x.view(-1, 28 * 28)\n",
    "        y1 = F.relu(self.fc1(x))\n",
    "        y2 = F.relu(self.fc2(y1))\n",
    "        y_mean = self.mean_fc(y2)\n",
    "        y_std = self.mean_std(y2)\n",
    "        return y_mean, y_std\n",
    "    \n",
    "class Decoder(NeuralNetworkPyTorch):\n",
    "    def __init__(self, numEncodings):\n",
    "        super().__init__()\n",
    "        self.fc1 = nn.Linear(numEncodings, 300)\n",
    "        self.fc2 = nn.Linear(300, 28 * 28)\n",
    "\n",
    "    def forward(self, z_samples):\n",
    "        y1 = F.relu(self.fc1(z_samples))\n",
    "        y2 = self.fc2(y1)\n",
    "        y_decoder = F.sigmoid(y2)\n",
    "        return y_decoder"
   ]
  },
  {
   "cell_type": "code",
   "execution_count": 4,
   "metadata": {},
   "outputs": [],
   "source": [
    "class VAE(NeuralNetworkPyTorch):\n",
    "    def __init__(self, numEncodings, encoderType=\"FCEncoder\"):\n",
    "        super().__init__()\n",
    "        self.numEncodings = numEncodings\n",
    "        self.encoder = Encoder(numEncodings)\n",
    "        self.decoder = Decoder(numEncodings)\n",
    "\n",
    "    def forward(self, x):\n",
    "        batchSize = x.shape[0]\n",
    "        y_mean, y_std = self.encoder(x)\n",
    "        # \"Reparametrization trick\": Sample from N(0, I) and multiply by our distribution's mean/std.\n",
    "        z_samples = Variable(maybeCuda(tr.randn(batchSize, self.numEncodings)), requires_grad=False)\n",
    "        z_samples *= y_std\n",
    "        z_samples += y_mean\n",
    "        y_decoder = self.decoder(z_samples)\n",
    "        y_decoder = y_decoder.view(batchSize, 28, 28)\n",
    "        return y_decoder, y_mean, y_std"
   ]
  },
  {
   "cell_type": "markdown",
   "metadata": {},
   "source": [
    "Next, let's define the loss function, which, as said before is twicefold. In order to optimize a random Gaussian to be N(0, I) we use the KL-Divergence (relative entropy), which is differentiable and thus can be minimized."
   ]
  },
  {
   "cell_type": "code",
   "execution_count": 5,
   "metadata": {},
   "outputs": [],
   "source": [
    "def lossFunction(y_network, y_target):\n",
    "    y_decoder, y_mean, y_std = y_network\n",
    "    # KL-Divergence between two Gaussians, one with y_mean, y_std and other is N(0, I)\n",
    "    latent_loss = 0.5 * tr.sum((y_std**2 + y_mean**2 - 1 - tr.log(y_std**2)))\n",
    "    decoder_loss = F.binary_cross_entropy(y_decoder, y_target)\n",
    "    return latent_loss + 76800 * decoder_loss\n",
    "\n",
    "# Define each loss independently as well, so we can use these values as metrics during training\n",
    "def lossLatent(y_network, y_target, **kwargs):\n",
    "    y_decoder, y_mean, y_std = y_network\n",
    "    latent_loss = 0.5 * np.sum((y_std**2 + y_mean**2 - 1 - np.log(y_std**2)))\n",
    "    return latent_loss\n",
    "\n",
    "def lossDecoder(y_network, y_target, **kwargs):\n",
    "    y_decoder, y_mean, y_std = y_network\n",
    "    decoder_loss = (F.binary_cross_entropy(Variable(tr.from_numpy(y_decoder).cpu()), \\\n",
    "        Variable(tr.from_numpy(y_target)).cpu())).data.numpy()\n",
    "    return 76800 * decoder_loss"
   ]
  },
  {
   "cell_type": "markdown",
   "metadata": {},
   "source": [
    "Now, let's define the model, the optimizer and criterion, and start training."
   ]
  },
  {
   "cell_type": "code",
   "execution_count": 6,
   "metadata": {},
   "outputs": [
    {
     "name": "stdout",
     "output_type": "stream",
     "text": [
      "[MNIST Reader] Setup complete\n",
      "[Model summary]\n",
      "General neural network architecture. Update __str__ in your model for more details when using summary.\n",
      "Parameters count: 475484. Trainable parameters: 475484.\n",
      "Metrics: 'Latent Loss', 'Decoder Loss', 'Loss'\n",
      "Optimizer: SGD. Learning rate: 1e-06, Momentum: 0.3, Dampening: 0, Weight Decay: 0, Nesterov: False\n",
      "\n"
     ]
    }
   ],
   "source": [
    "reader = BinaryMNISTReader(datasetPath)\n",
    "generator = reader.iterate(\"train\", miniBatchSize=100)\n",
    "numIterations = reader.getNumIterations(\"train\", miniBatchSize=100)\n",
    "\n",
    "network = maybeCuda(VAE(numEncodings=300))\n",
    "network.setCriterion(lossFunction)\n",
    "network.setOptimizer(optim.SGD, lr=0.000001, momentum=0.3)\n",
    "metrics = { \"Latent Loss\" : lossLatent, \"Decoder Loss\" : lossDecoder }\n",
    "network.setMetrics(metrics)\n",
    "print(network.summary())\n"
   ]
  },
  {
   "cell_type": "markdown",
   "metadata": {},
   "source": [
    "Let's define a callback, that during training, every 10 epochs, will sample 10 images and plot them, so we can have some reference to how well the model performed."
   ]
  },
  {
   "cell_type": "code",
   "execution_count": 7,
   "metadata": {},
   "outputs": [],
   "source": [
    "def plot_images(images, title):\n",
    "    fig = plt.figure()\n",
    "    numImages = len(images)\n",
    "\n",
    "    fig.add_subplot(1, numImages, 1)\n",
    "    plt.imshow(np.array(Image.fromarray(images[0])), cmap=\"gray\")\n",
    "    plt.axis(\"off\")\n",
    "    plt.title(title)\n",
    "    for j in range(1, numImages):\n",
    "        fig.add_subplot(1, numImages, j + 1)\n",
    "        plt.imshow(np.array(Image.fromarray(images[j])), cmap=\"gray\")\n",
    "        plt.axis(\"off\")\n",
    "    plt.show()\n",
    "    \n",
    "class PlotCallback(Callback):\n",
    "    def onEpochEnd(self, **kwargs):\n",
    "        epoch = kwargs[\"epoch\"]\n",
    "        if epoch % 10 != 1:\n",
    "            return\n",
    "        model = kwargs[\"model\"]\n",
    "        z_samples = Variable(maybeCuda(tr.randn(10, model.numEncodings)))\n",
    "        y_result = model.decoder.forward(z_samples)\n",
    "        result = maybeCpu(y_result.data).numpy().reshape((-1, 28, 28))\n",
    "        result_binary = np.uint8(result > 0.5)\n",
    "        title = \"Epoch %d\" % (epoch)\n",
    "        plot_images(result_binary, title)"
   ]
  },
  {
   "cell_type": "code",
   "execution_count": 8,
   "metadata": {},
   "outputs": [
    {
     "name": "stdout",
     "output_type": "stream",
     "text": [
      "Training for 100 epochs...\n",
      "Epoch 1/100. Done: 1.00%. Latent Loss: 797182.43. Decoder Loss: 40430.45. Loss: 837613.00. Took: 0:00:35.447125.\n",
      "Epoch 1. Improvement from nan to 837613.00\n"
     ]
    },
    {
     "data": {
      "image/png": "[encoded data removed]",
      "text/plain": [
       "<matplotlib.figure.Figure at 0x7f4f9079eef0>"
      ]
     },
     "metadata": {},
     "output_type": "display_data"
    },
    {
     "name": "stdout",
     "output_type": "stream",
     "text": [
      "Epoch 2/100. Done: 2.00%. Latent Loss: 18136.78. Decoder Loss: 26454.17. Loss: 44590.93. Took: 0:00:22.377619.\n",
      "Epoch 2. Improvement from 837613.00 to 44590.93\n",
      "Epoch 3/100. Done: 3.00%. Latent Loss: 10718.98. Decoder Loss: 23654.25. Loss: 34373.23. Took: 0:00:23.554513.\n",
      "Epoch 3. Improvement from 44590.93 to 34373.23\n",
      "Epoch 4/100. Done: 4.00%. Latent Loss: 7245.10. Decoder Loss: 23134.72. Loss: 30379.85. Took: 0:00:23.336416.\n",
      "Epoch 4. Improvement from 34373.23 to 30379.85\n",
      "Epoch 5/100. Done: 5.00%. Latent Loss: 5218.22. Decoder Loss: 22975.51. Loss: 28193.74. Took: 0:00:25.485976.\n",
      "Epoch 5. Improvement from 30379.85 to 28193.74\n",
      "Epoch 6/100. Done: 6.00%. Latent Loss: 3920.76. Decoder Loss: 22930.83. Loss: 26851.60. Took: 0:00:23.355890.\n",
      "Epoch 6. Improvement from 28193.74 to 26851.60\n",
      "Epoch 7/100. Done: 7.00%. Latent Loss: 3041.47. Decoder Loss: 22916.01. Loss: 25957.49. Took: 0:00:17.305303.\n",
      "Epoch 7. Improvement from 26851.60 to 25957.49\n",
      "Epoch 8/100. Done: 8.00%. Latent Loss: 2422.32. Decoder Loss: 22912.73. Loss: 25335.03. Took: 0:00:18.471171.\n",
      "Epoch 8. Improvement from 25957.49 to 25335.03\n",
      "Epoch 9/100. Done: 9.00%. Latent Loss: 1974.94. Decoder Loss: 22923.20. Loss: 24898.13. Took: 0:00:18.265949.\n",
      "Epoch 9. Improvement from 25335.03 to 24898.13\n",
      "Epoch 10/100. Done: 10.00%. Latent Loss: 1643.85. Decoder Loss: 22931.84. Loss: 24575.67. Took: 0:00:19.940976.\n",
      "Epoch 10. Improvement from 24898.13 to 24575.67\n",
      "Epoch 11/100. Done: 11.00%. Latent Loss: 1394.66. Decoder Loss: 22934.84. Loss: 24329.49. Took: 0:00:22.795736.\n",
      "Epoch 11. Improvement from 24575.67 to 24329.49\n"
     ]
    },
    {
     "data": {
      "image/png": "[encoded data removed]",
      "text/plain": [
       "<matplotlib.figure.Figure at 0x7f4f87e13d68>"
      ]
     },
     "metadata": {},
     "output_type": "display_data"
    },
    {
     "name": "stdout",
     "output_type": "stream",
     "text": [
      "Epoch 12/100. Done: 12.00%. Latent Loss: 1203.62. Decoder Loss: 22942.67. Loss: 24146.30. Took: 0:00:16.953376.\n",
      "Epoch 12. Improvement from 24329.49 to 24146.30\n",
      "Epoch 13/100. Done: 13.00%. Latent Loss: 1055.70. Decoder Loss: 22943.90. Loss: 23999.60. Took: 0:00:31.846047.\n",
      "Epoch 13. Improvement from 24146.30 to 23999.60\n",
      "Epoch 14/100. Done: 14.00%. Latent Loss: 939.36. Decoder Loss: 22949.62. Loss: 23888.98. Took: 0:00:18.605239.\n",
      "Epoch 14. Improvement from 23999.60 to 23888.98\n",
      "Epoch 15/100. Done: 15.00%. Latent Loss: 848.21. Decoder Loss: 22951.46. Loss: 23799.67. Took: 0:00:14.860086.\n",
      "Epoch 15. Improvement from 23888.98 to 23799.67\n",
      "Epoch 16/100. Done: 16.00%. Latent Loss: 774.77. Decoder Loss: 22949.48. Loss: 23724.25. Took: 0:00:15.073771.\n",
      "Epoch 16. Improvement from 23799.67 to 23724.25\n",
      "Epoch 17/100. Done: 17.00%. Latent Loss: 714.98. Decoder Loss: 22949.69. Loss: 23664.65. Took: 0:00:15.210403.\n",
      "Epoch 17. Improvement from 23724.25 to 23664.65\n",
      "Epoch 18/100. Done: 18.00%. Latent Loss: 666.86. Decoder Loss: 22949.26. Loss: 23616.11. Took: 0:00:14.475911.\n",
      "Epoch 18. Improvement from 23664.65 to 23616.11\n",
      "Epoch 19/100. Done: 19.00%. Latent Loss: 627.46. Decoder Loss: 22950.86. Loss: 23578.31. Took: 0:00:14.162558.\n",
      "Epoch 19. Improvement from 23616.11 to 23578.31\n",
      "Epoch 20/100. Done: 20.00%. Latent Loss: 594.55. Decoder Loss: 22942.42. Loss: 23536.97. Took: 0:00:15.149000.\n",
      "Epoch 20. Improvement from 23578.31 to 23536.97\n",
      "Epoch 21/100. Done: 21.00%. Latent Loss: 567.09. Decoder Loss: 22949.14. Loss: 23516.23. Took: 0:00:15.992575.\n",
      "Epoch 21. Improvement from 23536.97 to 23516.23\n"
     ]
    },
    {
     "data": {
      "image/png": "[encoded data removed]",
      "text/plain": [
       "<matplotlib.figure.Figure at 0x7f4f87bac0f0>"
      ]
     },
     "metadata": {},
     "output_type": "display_data"
    },
    {
     "name": "stdout",
     "output_type": "stream",
     "text": [
      "Epoch 22/100. Done: 22.00%. Latent Loss: 544.73. Decoder Loss: 22925.67. Loss: 23470.41. Took: 0:00:16.940064.\n",
      "Epoch 22. Improvement from 23516.23 to 23470.41\n",
      "Epoch 23/100. Done: 23.00%. Latent Loss: 525.34. Decoder Loss: 22928.45. Loss: 23453.77. Took: 0:00:15.971539.\n",
      "Epoch 23. Improvement from 23470.41 to 23453.77\n",
      "Epoch 24/100. Done: 24.00%. Latent Loss: 509.23. Decoder Loss: 22928.81. Loss: 23438.05. Took: 0:00:14.856733.\n",
      "Epoch 24. Improvement from 23453.77 to 23438.05\n",
      "Epoch 25/100. Done: 25.00%. Latent Loss: 495.24. Decoder Loss: 22919.15. Loss: 23414.38. Took: 0:00:14.965762.\n",
      "Epoch 25. Improvement from 23438.05 to 23414.38\n",
      "Epoch 26/100. Done: 26.00%. Latent Loss: 482.43. Decoder Loss: 22912.21. Loss: 23394.65. Took: 0:00:17.325227.\n",
      "Epoch 26. Improvement from 23414.38 to 23394.65\n",
      "Epoch 27/100. Done: 27.00%. Latent Loss: 471.18. Decoder Loss: 22904.96. Loss: 23376.14. Took: 0:00:18.836816.\n",
      "Epoch 27. Improvement from 23394.65 to 23376.14\n",
      "Epoch 28/100. Done: 28.00%. Latent Loss: 461.02. Decoder Loss: 22904.14. Loss: 23365.16. Took: 0:00:23.241777.\n",
      "Epoch 28. Improvement from 23376.14 to 23365.16\n",
      "Epoch 29/100. Done: 29.00%. Latent Loss: 452.82. Decoder Loss: 22901.41. Loss: 23354.23. Took: 0:00:14.440472.\n",
      "Epoch 29. Improvement from 23365.16 to 23354.23\n",
      "Epoch 30/100. Done: 30.00%. Latent Loss: 445.28. Decoder Loss: 22894.61. Loss: 23339.88. Took: 0:00:17.629415.\n",
      "Epoch 30. Improvement from 23354.23 to 23339.88\n",
      "Epoch 31/100. Done: 31.00%. Latent Loss: 437.89. Decoder Loss: 22870.21. Loss: 23308.10. Took: 0:00:16.251666.\n",
      "Epoch 31. Improvement from 23339.88 to 23308.10\n"
     ]
    },
    {
     "data": {
      "image/png": "[encoded data removed]",
      "text/plain": [
       "<matplotlib.figure.Figure at 0x7f4f8792bb00>"
      ]
     },
     "metadata": {},
     "output_type": "display_data"
    },
    {
     "name": "stdout",
     "output_type": "stream",
     "text": [
      "Epoch 32/100. Done: 32.00%. Latent Loss: 430.95. Decoder Loss: 22881.15. Loss: 23312.09. Took: 0:00:14.901968.\n",
      "Epoch 33/100. Done: 33.00%. Latent Loss: 424.82. Decoder Loss: 22865.38. Loss: 23290.20. Took: 0:00:19.582254.\n",
      "Epoch 33. Improvement from 23308.10 to 23290.20\n",
      "Epoch 34/100. Done: 34.00%. Latent Loss: 419.68. Decoder Loss: 22859.10. Loss: 23278.78. Took: 0:00:16.842288.\n",
      "Epoch 34. Improvement from 23290.20 to 23278.78\n",
      "Epoch 35/100. Done: 35.00%. Latent Loss: 414.41. Decoder Loss: 22853.64. Loss: 23268.06. Took: 0:00:21.305465.\n",
      "Epoch 35. Improvement from 23278.78 to 23268.06\n",
      "Epoch 36/100. Done: 36.00%. Latent Loss: 409.66. Decoder Loss: 22832.22. Loss: 23241.89. Took: 0:00:24.224154.\n",
      "Epoch 36. Improvement from 23268.06 to 23241.89\n",
      "Epoch 37/100. Done: 37.00%. Latent Loss: 405.17. Decoder Loss: 22811.10. Loss: 23216.27. Took: 0:00:25.622037.\n",
      "Epoch 37. Improvement from 23241.89 to 23216.27\n",
      "Epoch 38/100. Done: 38.00%. Latent Loss: 404.98. Decoder Loss: 22750.94. Loss: 23155.93. Took: 0:00:19.202468.\n",
      "Epoch 38. Improvement from 23216.27 to 23155.93\n",
      "Epoch 39/100. Done: 39.00%. Latent Loss: 410.98. Decoder Loss: 22669.58. Loss: 23080.55. Took: 0:00:18.824740.\n",
      "Epoch 39. Improvement from 23155.93 to 23080.55\n",
      "Epoch 40/100. Done: 40.00%. Latent Loss: 415.01. Decoder Loss: 22585.37. Loss: 23000.38. Took: 0:00:16.639700.\n",
      "Epoch 40. Improvement from 23080.55 to 23000.38\n",
      "Epoch 41/100. Done: 41.00%. Latent Loss: 417.32. Decoder Loss: 22494.62. Loss: 22911.94. Took: 0:00:16.009428.\n",
      "Epoch 41. Improvement from 23000.38 to 22911.94\n"
     ]
    },
    {
     "data": {
      "image/png": "[encoded data removed]",
      "text/plain": [
       "<matplotlib.figure.Figure at 0x7f4f87a941d0>"
      ]
     },
     "metadata": {},
     "output_type": "display_data"
    },
    {
     "name": "stdout",
     "output_type": "stream",
     "text": [
      "Epoch 42/100. Done: 42.00%. Latent Loss: 419.09. Decoder Loss: 22433.89. Loss: 22852.98. Took: 0:00:14.784648.\n",
      "Epoch 42. Improvement from 22911.94 to 22852.98\n",
      "Epoch 43/100. Done: 43.00%. Latent Loss: 425.01. Decoder Loss: 22459.66. Loss: 22884.66. Took: 0:00:14.769825.\n",
      "Epoch 44/100. Done: 44.00%. Latent Loss: 419.62. Decoder Loss: 22330.33. Loss: 22749.96. Took: 0:00:14.783393.\n",
      "Epoch 44. Improvement from 22852.98 to 22749.96\n",
      "Epoch 45/100. Done: 45.00%. Latent Loss: 426.68. Decoder Loss: 22260.34. Loss: 22687.01. Took: 0:00:14.724439.\n",
      "Epoch 45. Improvement from 22749.96 to 22687.01\n",
      "Epoch 46/100. Done: 46.00%. Latent Loss: 439.14. Decoder Loss: 22184.25. Loss: 22623.38. Took: 0:00:14.720591.\n",
      "Epoch 46. Improvement from 22687.01 to 22623.38\n",
      "Epoch 47/100. Done: 47.00%. Latent Loss: 466.06. Decoder Loss: 22031.11. Loss: 22497.16. Took: 0:00:14.835115.\n",
      "Epoch 47. Improvement from 22623.38 to 22497.16\n",
      "Epoch 48/100. Done: 48.00%. Latent Loss: 540.84. Decoder Loss: 21710.79. Loss: 22251.63. Took: 0:00:14.713262.\n",
      "Epoch 48. Improvement from 22497.16 to 22251.63\n",
      "Epoch 49/100. Done: 49.00%. Latent Loss: 610.17. Decoder Loss: 21405.75. Loss: 22015.92. Took: 0:00:14.724665.\n",
      "Epoch 49. Improvement from 22251.63 to 22015.92\n",
      "Epoch 50/100. Done: 50.00%. Latent Loss: 612.77. Decoder Loss: 21253.10. Loss: 21865.88. Took: 0:00:15.059133.\n",
      "Epoch 50. Improvement from 22015.92 to 21865.88\n",
      "Epoch 51/100. Done: 51.00%. Latent Loss: 599.61. Decoder Loss: 21160.20. Loss: 21759.81. Took: 0:00:15.135625.\n",
      "Epoch 51. Improvement from 21865.88 to 21759.81\n"
     ]
    },
    {
     "data": {
      "image/png": "[encoded data removed]",
      "text/plain": [
       "<matplotlib.figure.Figure at 0x7f4f87a60390>"
      ]
     },
     "metadata": {},
     "output_type": "display_data"
    },
    {
     "name": "stdout",
     "output_type": "stream",
     "text": [
      "Epoch 52/100. Done: 52.00%. Latent Loss: 583.30. Decoder Loss: 21110.71. Loss: 21694.01. Took: 0:00:14.792237.\n",
      "Epoch 52. Improvement from 21759.81 to 21694.01\n",
      "Epoch 53/100. Done: 53.00%. Latent Loss: 576.50. Decoder Loss: 21051.78. Loss: 21628.28. Took: 0:00:14.685218.\n",
      "Epoch 53. Improvement from 21694.01 to 21628.28\n",
      "Epoch 54/100. Done: 54.00%. Latent Loss: 565.84. Decoder Loss: 21021.25. Loss: 21587.09. Took: 0:00:14.863300.\n",
      "Epoch 54. Improvement from 21628.28 to 21587.09\n",
      "Epoch 55/100. Done: 55.00%. Latent Loss: 557.26. Decoder Loss: 20981.19. Loss: 21538.46. Took: 0:00:14.808100.\n",
      "Epoch 55. Improvement from 21587.09 to 21538.46\n",
      "Epoch 56/100. Done: 56.00%. Latent Loss: 547.88. Decoder Loss: 20961.38. Loss: 21509.26. Took: 0:00:14.688210.\n",
      "Epoch 56. Improvement from 21538.46 to 21509.26\n",
      "Epoch 57/100. Done: 57.00%. Latent Loss: 540.53. Decoder Loss: 20929.56. Loss: 21470.10. Took: 0:00:14.659529.\n",
      "Epoch 57. Improvement from 21509.26 to 21470.10\n",
      "Epoch 58/100. Done: 58.00%. Latent Loss: 533.47. Decoder Loss: 20898.84. Loss: 21432.31. Took: 0:00:14.754310.\n",
      "Epoch 58. Improvement from 21470.10 to 21432.31\n",
      "Epoch 59/100. Done: 59.00%. Latent Loss: 527.26. Decoder Loss: 20881.48. Loss: 21408.75. Took: 0:00:14.750836.\n",
      "Epoch 59. Improvement from 21432.31 to 21408.75\n",
      "Epoch 60/100. Done: 60.00%. Latent Loss: 523.31. Decoder Loss: 20858.79. Loss: 21382.11. Took: 0:00:14.818864.\n",
      "Epoch 60. Improvement from 21408.75 to 21382.11\n",
      "Epoch 61/100. Done: 61.00%. Latent Loss: 519.24. Decoder Loss: 20842.17. Loss: 21361.39. Took: 0:00:19.419157.\n",
      "Epoch 61. Improvement from 21382.11 to 21361.39\n"
     ]
    },
    {
     "data": {
      "image/png": "[encoded data removed]",
      "text/plain": [
       "<matplotlib.figure.Figure at 0x7f4f87a60080>"
      ]
     },
     "metadata": {},
     "output_type": "display_data"
    },
    {
     "name": "stdout",
     "output_type": "stream",
     "text": [
      "Epoch 62/100. Done: 62.00%. Latent Loss: 514.28. Decoder Loss: 20821.89. Loss: 21336.17. Took: 0:00:19.421993.\n",
      "Epoch 62. Improvement from 21361.39 to 21336.17\n",
      "Epoch 63/100. Done: 63.00%. Latent Loss: 510.58. Decoder Loss: 20801.79. Loss: 21312.37. Took: 0:00:18.464277.\n",
      "Epoch 63. Improvement from 21336.17 to 21312.37\n",
      "Epoch 64/100. Done: 64.00%. Latent Loss: 506.18. Decoder Loss: 20773.22. Loss: 21279.40. Took: 0:00:18.925713.\n",
      "Epoch 64. Improvement from 21312.37 to 21279.40\n",
      "Epoch 65/100. Done: 65.00%. Latent Loss: 503.24. Decoder Loss: 20762.53. Loss: 21265.78. Took: 0:00:22.247005.\n",
      "Epoch 65. Improvement from 21279.40 to 21265.78\n",
      "Epoch 66/100. Done: 66.00%. Latent Loss: 499.81. Decoder Loss: 20744.96. Loss: 21244.77. Took: 0:00:18.355427.\n",
      "Epoch 66. Improvement from 21265.78 to 21244.77\n",
      "Epoch 67/100. Done: 67.00%. Latent Loss: 497.61. Decoder Loss: 20727.14. Loss: 21224.75. Took: 0:00:14.869082.\n",
      "Epoch 67. Improvement from 21244.77 to 21224.75\n",
      "Epoch 68/100. Done: 68.00%. Latent Loss: 493.36. Decoder Loss: 20710.90. Loss: 21204.27. Took: 0:00:15.911000.\n",
      "Epoch 68. Improvement from 21224.75 to 21204.27\n",
      "Epoch 69/100. Done: 69.00%. Latent Loss: 490.71. Decoder Loss: 20689.97. Loss: 21180.69. Took: 0:00:15.717793.\n",
      "Epoch 69. Improvement from 21204.27 to 21180.69\n",
      "Epoch 70/100. Done: 70.00%. Latent Loss: 488.20. Decoder Loss: 20676.03. Loss: 21164.20. Took: 0:00:15.623729.\n",
      "Epoch 70. Improvement from 21180.69 to 21164.20\n",
      "Epoch 71/100. Done: 71.00%. Latent Loss: 484.89. Decoder Loss: 20650.71. Loss: 21135.61. Took: 0:00:17.603042.\n",
      "Epoch 71. Improvement from 21164.20 to 21135.61\n"
     ]
    },
    {
     "data": {
      "image/png": "[encoded data removed]",
      "text/plain": [
       "<matplotlib.figure.Figure at 0x7f4f87c713c8>"
      ]
     },
     "metadata": {},
     "output_type": "display_data"
    },
    {
     "name": "stdout",
     "output_type": "stream",
     "text": [
      "Epoch 72/100. Done: 72.00%. Latent Loss: 481.82. Decoder Loss: 20636.26. Loss: 21118.07. Took: 0:00:15.745108.\n",
      "Epoch 72. Improvement from 21135.61 to 21118.07\n",
      "Epoch 73/100. Done: 73.00%. Latent Loss: 480.32. Decoder Loss: 20622.97. Loss: 21103.29. Took: 0:00:15.829722.\n",
      "Epoch 73. Improvement from 21118.07 to 21103.29\n",
      "Epoch 74/100. Done: 74.00%. Latent Loss: 478.46. Decoder Loss: 20603.03. Loss: 21081.48. Took: 0:00:15.908686.\n",
      "Epoch 74. Improvement from 21103.29 to 21081.48\n",
      "Epoch 75/100. Done: 75.00%. Latent Loss: 476.72. Decoder Loss: 20585.48. Loss: 21062.21. Took: 0:00:17.583329.\n",
      "Epoch 75. Improvement from 21081.48 to 21062.21\n",
      "Epoch 76/100. Done: 76.00%. Latent Loss: 474.16. Decoder Loss: 20571.04. Loss: 21045.20. Took: 0:00:17.790193.\n",
      "Epoch 76. Improvement from 21062.21 to 21045.20\n",
      "Epoch 77/100. Done: 77.00%. Latent Loss: 472.25. Decoder Loss: 20548.25. Loss: 21020.50. Took: 0:00:25.384121.\n",
      "Epoch 77. Improvement from 21045.20 to 21020.50\n",
      "Epoch 78/100. Done: 78.00%. Latent Loss: 470.13. Decoder Loss: 20531.35. Loss: 21001.49. Took: 0:00:28.671729.\n",
      "Epoch 78. Improvement from 21020.50 to 21001.49\n",
      "Epoch 79/100. Done: 79.00%. Latent Loss: 469.12. Decoder Loss: 20513.01. Loss: 20982.13. Took: 0:00:19.657509.\n",
      "Epoch 79. Improvement from 21001.49 to 20982.13\n",
      "Epoch 80/100. Done: 80.00%. Latent Loss: 467.12. Decoder Loss: 20492.67. Loss: 20959.77. Took: 0:00:15.514500.\n",
      "Epoch 80. Improvement from 20982.13 to 20959.77\n",
      "Epoch 81/100. Done: 81.00%. Latent Loss: 465.04. Decoder Loss: 20469.85. Loss: 20934.88. Took: 0:00:14.642303.\n",
      "Epoch 81. Improvement from 20959.77 to 20934.88\n"
     ]
    },
    {
     "data": {
      "image/png": "[encoded data removed]",
      "text/plain": [
       "<matplotlib.figure.Figure at 0x7f4f87f204a8>"
      ]
     },
     "metadata": {},
     "output_type": "display_data"
    },
    {
     "name": "stdout",
     "output_type": "stream",
     "text": [
      "Epoch 82/100. Done: 82.00%. Latent Loss: 463.00. Decoder Loss: 20462.25. Loss: 20925.25. Took: 0:00:16.112922.\n",
      "Epoch 82. Improvement from 20934.88 to 20925.25\n",
      "Epoch 83/100. Done: 83.00%. Latent Loss: 461.91. Decoder Loss: 20435.43. Loss: 20897.34. Took: 0:00:24.302029.\n",
      "Epoch 83. Improvement from 20925.25 to 20897.34\n",
      "Epoch 84/100. Done: 84.00%. Latent Loss: 460.14. Decoder Loss: 20420.96. Loss: 20881.12. Took: 0:00:15.618299.\n",
      "Epoch 84. Improvement from 20897.34 to 20881.12\n",
      "Epoch 85/100. Done: 85.00%. Latent Loss: 458.59. Decoder Loss: 20403.89. Loss: 20862.48. Took: 0:00:16.092693.\n",
      "Epoch 85. Improvement from 20881.12 to 20862.48\n",
      "Epoch 86/100. Done: 86.00%. Latent Loss: 458.02. Decoder Loss: 20381.64. Loss: 20839.65. Took: 0:00:15.466827.\n",
      "Epoch 86. Improvement from 20862.48 to 20839.65\n",
      "Epoch 87/100. Done: 87.00%. Latent Loss: 455.11. Decoder Loss: 20364.23. Loss: 20819.35. Took: 0:00:14.856436.\n",
      "Epoch 87. Improvement from 20839.65 to 20819.35\n",
      "Epoch 88/100. Done: 88.00%. Latent Loss: 453.84. Decoder Loss: 20345.45. Loss: 20799.28. Took: 0:00:15.456138.\n",
      "Epoch 88. Improvement from 20819.35 to 20799.28\n",
      "Epoch 89/100. Done: 89.00%. Latent Loss: 452.14. Decoder Loss: 20327.96. Loss: 20780.09. Took: 0:00:15.355177.\n",
      "Epoch 89. Improvement from 20799.28 to 20780.09\n",
      "Epoch 90/100. Done: 90.00%. Latent Loss: 449.83. Decoder Loss: 20313.30. Loss: 20763.13. Took: 0:00:15.528120.\n",
      "Epoch 90. Improvement from 20780.09 to 20763.13\n",
      "Epoch 91/100. Done: 91.00%. Latent Loss: 448.57. Decoder Loss: 20301.18. Loss: 20749.74. Took: 0:00:15.772010.\n",
      "Epoch 91. Improvement from 20763.13 to 20749.74\n"
     ]
    },
    {
     "data": {
      "image/png": "[encoded data removed]",
      "text/plain": [
       "<matplotlib.figure.Figure at 0x7f4f87c60a20>"
      ]
     },
     "metadata": {},
     "output_type": "display_data"
    },
    {
     "name": "stdout",
     "output_type": "stream",
     "text": [
      "Epoch 92/100. Done: 92.00%. Latent Loss: 448.32. Decoder Loss: 20285.67. Loss: 20734.00. Took: 0:00:19.171285.\n",
      "Epoch 92. Improvement from 20749.74 to 20734.00\n",
      "Epoch 93/100. Done: 93.00%. Latent Loss: 445.86. Decoder Loss: 20276.20. Loss: 20722.06. Took: 0:00:19.081758.\n",
      "Epoch 93. Improvement from 20734.00 to 20722.06\n",
      "Epoch 94/100. Done: 94.00%. Latent Loss: 443.64. Decoder Loss: 20256.44. Loss: 20700.09. Took: 0:00:19.712140.\n",
      "Epoch 94. Improvement from 20722.06 to 20700.09\n",
      "Epoch 95/100. Done: 95.00%. Latent Loss: 440.17. Decoder Loss: 20241.45. Loss: 20681.62. Took: 0:00:19.510568.\n",
      "Epoch 95. Improvement from 20700.09 to 20681.62\n",
      "Epoch 96/100. Done: 96.00%. Latent Loss: 439.05. Decoder Loss: 20223.19. Loss: 20662.24. Took: 0:00:19.645491.\n",
      "Epoch 96. Improvement from 20681.62 to 20662.24\n",
      "Epoch 97/100. Done: 97.00%. Latent Loss: 437.35. Decoder Loss: 20213.69. Loss: 20651.04. Took: 0:00:19.280072.\n",
      "Epoch 97. Improvement from 20662.24 to 20651.04\n",
      "Epoch 98/100. Done: 98.00%. Latent Loss: 434.58. Decoder Loss: 20204.93. Loss: 20639.51. Took: 0:00:19.653290.\n",
      "Epoch 98. Improvement from 20651.04 to 20639.51\n",
      "Epoch 99/100. Done: 99.00%. Latent Loss: 431.99. Decoder Loss: 20193.02. Loss: 20625.02. Took: 0:00:18.760722.\n",
      "Epoch 99. Improvement from 20639.51 to 20625.02\n",
      "Epoch 100/100. Done: 100.00%. Latent Loss: 429.96. Decoder Loss: 20179.46. Loss: 20609.43. Took: 0:00:19.506952.\n",
      "Epoch 100. Improvement from 20625.02 to 20609.43\n"
     ]
    }
   ],
   "source": [
    "callbacks = [SaveModels(\"best\"), PlotCallback()]\n",
    "network.train_generator(generator, stepsPerEpoch=numIterations, numEpochs=100, callbacks=callbacks)\n"
   ]
  },
  {
   "cell_type": "markdown",
   "metadata": {},
   "source": [
    "Finally, let's load the best model and generate some samples from it."
   ]
  },
  {
   "cell_type": "code",
   "execution_count": 9,
   "metadata": {},
   "outputs": [
    {
     "name": "stdout",
     "output_type": "stream",
     "text": [
      "Succesfully loaded model (with history, epoch 101)\n"
     ]
    },
    {
     "data": {
      "image/png": "[encoded data removed]",
      "text/plain": [
       "<matplotlib.figure.Figure at 0x7f4f87db8400>"
      ]
     },
     "metadata": {},
     "output_type": "display_data"
    },
    {
     "data": {
      "image/png": "[encoded data removed]",
      "text/plain": [
       "<matplotlib.figure.Figure at 0x7f4f87f50828>"
      ]
     },
     "metadata": {},
     "output_type": "display_data"
    },
    {
     "data": {
      "image/png": "[encoded data removed]",
      "text/plain": [
       "<matplotlib.figure.Figure at 0x7f4f87f9ec88>"
      ]
     },
     "metadata": {},
     "output_type": "display_data"
    },
    {
     "data": {
      "image/png": "[encoded data removed]",
      "text/plain": [
       "<matplotlib.figure.Figure at 0x7f4f87aca8d0>"
      ]
     },
     "metadata": {},
     "output_type": "display_data"
    },
    {
     "data": {
      "image/png": "[encoded data removed]",
      "text/plain": [
       "<matplotlib.figure.Figure at 0x7f4f87f39780>"
      ]
     },
     "metadata": {},
     "output_type": "display_data"
    },
    {
     "data": {
      "image/png": "[encoded data removed]",
      "text/plain": [
       "<matplotlib.figure.Figure at 0x7f4f87760470>"
      ]
     },
     "metadata": {},
     "output_type": "display_data"
    },
    {
     "data": {
      "image/png": "[encoded data removed]",
      "text/plain": [
       "<matplotlib.figure.Figure at 0x7f4f8768f2e8>"
      ]
     },
     "metadata": {},
     "output_type": "display_data"
    },
    {
     "data": {
      "image/png": "[encoded data removed]",
      "text/plain": [
       "<matplotlib.figure.Figure at 0x7f4f87e4fb70>"
      ]
     },
     "metadata": {},
     "output_type": "display_data"
    },
    {
     "data": {
      "image/png": "[encoded data removed]",
      "text/plain": [
       "<matplotlib.figure.Figure at 0x7f4f878a08d0>"
      ]
     },
     "metadata": {},
     "output_type": "display_data"
    },
    {
     "data": {
      "image/png": "[encoded data removed]",
      "text/plain": [
       "<matplotlib.figure.Figure at 0x7f4f87c7ea90>"
      ]
     },
     "metadata": {},
     "output_type": "display_data"
    }
   ],
   "source": [
    "network.load_model(\"model_best.pkl\")\n",
    "\n",
    "for i in range(10):\n",
    "    z_samples = Variable(maybeCuda(tr.randn(10, network.numEncodings)))\n",
    "    y_result = network.decoder.forward(z_samples)\n",
    "    result = maybeCpu(y_result.data).numpy().reshape((-1, 28, 28))\n",
    "    result_binary = np.uint8(result > 0.5)\n",
    "    title = \"Sample %d\" % (i)\n",
    "    plot_images(result_binary, title)"
   ]
  },
  {
   "cell_type": "markdown",
   "metadata": {},
   "source": [
    "Seems fairly biased on 1, 9 and 0s for this train, but overall looks good.\n",
    "\n",
    "Nice."
   ]
  },
  {
   "cell_type": "code",
   "execution_count": null,
   "metadata": {},
   "outputs": [],
   "source": []
  }
 ],
 "metadata": {
  "kernelspec": {
   "display_name": "Python 3",
   "language": "python",
   "name": "python3"
  },
  "language_info": {
   "codemirror_mode": {
    "name": "ipython",
    "version": 3
   },
   "file_extension": ".py",
   "mimetype": "text/x-python",
   "name": "python",
   "nbconvert_exporter": "python",
   "pygments_lexer": "ipython3",
   "version": "3.7.0"
  }
 },
 "nbformat": 4,
 "nbformat_minor": 2
}
