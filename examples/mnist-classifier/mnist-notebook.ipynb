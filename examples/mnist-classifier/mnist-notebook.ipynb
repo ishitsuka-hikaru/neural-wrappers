{
 "cells": [
  {
   "cell_type": "markdown",
   "metadata": {},
   "source": [
    "Implementation of the classical MNIST FC and Conv classifier\n",
    "==================================================\n",
    "\n",
    "Mirror on GitHub: https://gist.github.com/Meehai/85429f878e319a70116a9d72aaf83ac1"
   ]
  },
  {
   "cell_type": "markdown",
   "metadata": {},
   "source": [
    "First, do the imports, in our case we need the readers for Cifar10 and MNIST, as well as some built-in callbacks"
   ]
  },
  {
   "cell_type": "code",
   "execution_count": 3,
   "metadata": {},
   "outputs": [],
   "source": [
    "%matplotlib inline\n",
    "import sys\n",
    "import numpy as np\n",
    "import torch as tr\n",
    "import torch.optim as optim\n",
    "import torch.nn as nn\n",
    "import torch.nn.functional as F\n",
    "from neural_wrappers.readers import MNISTReader\n",
    "from neural_wrappers.pytorch import NeuralNetworkPyTorch, maybeCuda\n",
    "from neural_wrappers.callbacks import SaveModels, ConfusionMatrix\n",
    "from neural_wrappers.metrics import Accuracy\n",
    "import matplotlib.pyplot as plt\n"
   ]
  },
  {
   "cell_type": "markdown",
   "metadata": {},
   "source": [
    "Then, we need some global parameters, such as the path in the local directory to the dataset or the type of model used."
   ]
  },
  {
   "cell_type": "code",
   "execution_count": 4,
   "metadata": {},
   "outputs": [
    {
     "name": "stdout",
     "output_type": "stream",
     "text": [
      "[MNIST Reader] Setup complete\n",
      "[Dataset summary]\n",
      "General dataset reader. Update __str__ in your dataset for more details when using summary.\n",
      "All dims: ['images', 'labels']. Data dims: ['images']. Label dims: ['labels']\n",
      "Dim transforms: {'images': <class 'numpy.float32'>, 'labels': <function MNISTReader.<lambda> at 0x7f4386710510>}\n",
      "Normalizers: {'images': 'standardization', 'labels': 'identity'}\n",
      "Aug Transforms(1):\n",
      "[Transformer]\n",
      "  - {'images': 'identity', 'labels': 'identity'}\n",
      "\n"
     ]
    }
   ],
   "source": [
    "datasetPath = \"/home/mihai/Public/Datasets/mnist/mnist.h5\"\n",
    "\n",
    "reader = MNISTReader(datasetPath, normalizer={\"images\" : \"standardization\"})\n",
    "print(reader.summary())"
   ]
  },
  {
   "cell_type": "markdown",
   "metadata": {},
   "source": [
    "Based on the model type, import it, using the inputShape/outputShape pair, and set the optimizer, metrics and criterion. For optimizer, simple SGD with momentum works. For criterion, the NLL is used, because the task is classification. Finally, we add Accuracy as metric (alongside Loss, which is by default) also specifying that the data is given as categorical (one-hot encoded vector)."
   ]
  },
  {
   "cell_type": "code",
   "execution_count": 6,
   "metadata": {},
   "outputs": [
    {
     "name": "stdout",
     "output_type": "stream",
     "text": [
      "[Model summary]\n",
      "General neural network architecture. Update __str__ in your model for more details when using summary.\n",
      "Parameters count: 89610. Trainable parameters: 89610.\n",
      "Metrics: 'Accuracy', 'Loss'\n",
      "Optimizer: SGD. Learning rate: 0.01, Momentum: 0.5, Dampening: 0, Weight Decay: 0, Nesterov: False\n",
      "\n"
     ]
    }
   ],
   "source": [
    "class ModelFC(NeuralNetworkPyTorch):\n",
    "    # (28, 28, 1) => (10, 1)\n",
    "    def __init__(self, inputShape, outputNumClasses):\n",
    "        super().__init__()\n",
    "\n",
    "        self.inputShapeProd = int(np.prod(np.array(inputShape)))\n",
    "        self.fc1 = nn.Linear(self.inputShapeProd, 100)\n",
    "        self.fc2 = nn.Linear(100, 100)\n",
    "        self.fc3 = nn.Linear(100, outputNumClasses)\n",
    "\n",
    "    def forward(self, x):\n",
    "        x = x.view(-1, self.inputShapeProd)\n",
    "        y1 = self.fc1(x)\n",
    "        y2 = self.fc2(y1)\n",
    "        y3 = self.fc3(y2)\n",
    "        return y3\n",
    "\n",
    "def lossFn(y, t):\n",
    "    # Negative log-likeklihood (used for softmax+NLL for classification), expecting targets are one-hot encoded\n",
    "    y = F.softmax(y, dim=1)\n",
    "    return tr.mean(-tr.log(y[t] + 1e-5))\n",
    "\n",
    "model = maybeCuda(ModelFC(inputShape=(28, 28, 1), outputNumClasses=10))\n",
    "model.setOptimizer(optim.SGD, lr=0.01, momentum=0.5)\n",
    "model.setMetrics({\"Accuracy\" : Accuracy(categoricalLabels=True)})\n",
    "# Negative log-likeklihood (used for softmax+NLL for classification), expecting targets are one-hot encoded\n",
    "model.setCriterion(lossFn)\n",
    "print(model.summary())"
   ]
  },
  {
   "cell_type": "markdown",
   "metadata": {},
   "source": [
    "Now, if we wish to train our model, we must set the train/validation generators, and start the training for a number of epochs."
   ]
  },
  {
   "cell_type": "code",
   "execution_count": 8,
   "metadata": {},
   "outputs": [
    {
     "name": "stdout",
     "output_type": "stream",
     "text": [
      "Training for 10 epochs...\n",
      "Epoch 1/10. Done: 10.00%. Accuracy: 89.42. Loss: 0.37. Val Accuracy: 89.57. Val Loss: 0.35. LR: 0.01000. Took: 0:00:23.102721.\n",
      "Epoch 1. Improvement from nan to 0.35\n",
      "Epoch 2/10. Done: 20.00%. Accuracy: 91.50. Loss: 0.30. Val Accuracy: 90.03. Val Loss: 0.34. LR: 0.01000. Took: 0:00:15.069922.\n",
      "Epoch 2. Improvement from 0.35 to 0.34\n",
      "Epoch 3/10. Done: 30.00%. Accuracy: 91.86. Loss: 0.29. Val Accuracy: 90.25. Val Loss: 0.33. LR: 0.01000. Took: 0:00:13.349256.\n",
      "Epoch 3. Improvement from 0.34 to 0.33\n",
      "Epoch 4/10. Done: 40.00%. Accuracy: 92.04. Loss: 0.28. Val Accuracy: 90.42. Val Loss: 0.33. LR: 0.01000. Took: 0:00:11.091491.\n",
      "Epoch 4. Improvement from 0.33 to 0.33\n",
      "Epoch 5/10. Done: 50.00%. Accuracy: 92.18. Loss: 0.28. Val Accuracy: 90.45. Val Loss: 0.32. LR: 0.01000. Took: 0:00:09.020046.\n",
      "Epoch 5. Improvement from 0.33 to 0.32\n",
      "Epoch 6/10. Done: 60.00%. Accuracy: 92.26. Loss: 0.28. Val Accuracy: 90.52. Val Loss: 0.32. LR: 0.01000. Took: 0:00:09.062632.\n",
      "Epoch 6. Improvement from 0.32 to 0.32\n",
      "Epoch 7/10. Done: 70.00%. Accuracy: 92.33. Loss: 0.27. Val Accuracy: 90.60. Val Loss: 0.32. LR: 0.01000. Took: 0:00:09.113946.\n",
      "Epoch 7. Improvement from 0.32 to 0.32\n",
      "Epoch 8/10. Done: 80.00%. Accuracy: 92.38. Loss: 0.27. Val Accuracy: 90.68. Val Loss: 0.32. LR: 0.01000. Took: 0:00:09.094248.\n",
      "Epoch 8. Improvement from 0.32 to 0.32\n",
      "Epoch 9/10. Done: 90.00%. Accuracy: 92.43. Loss: 0.27. Val Accuracy: 90.73. Val Loss: 0.32. LR: 0.01000. Took: 0:00:09.054767.\n",
      "Epoch 9. Improvement from 0.32 to 0.32\n",
      "Epoch 10/10. Done: 100.00%. Accuracy: 92.47. Loss: 0.27. Val Accuracy: 90.72. Val Loss: 0.32. LR: 0.01000. Took: 0:00:10.930863.\n",
      "Epoch 10. Improvement from 0.32 to 0.32\n"
     ]
    }
   ],
   "source": [
    "trainGenerator = reader.iterate(\"train\", miniBatchSize=20)\n",
    "trainNumIterations = reader.getNumIterations(\"train\", miniBatchSize=20)\n",
    "testGenerator = reader.iterate(\"test\", miniBatchSize=5)\n",
    "testNumIterations = reader.getNumIterations(\"test\", miniBatchSize=5)\n",
    "\n",
    "callbacks = [SaveModels(type=\"best\"), ConfusionMatrix(numClasses=10, categoricalLabels=True)]\n",
    "\n",
    "model.train_generator(trainGenerator, stepsPerEpoch=trainNumIterations, numEpochs=10, callbacks=callbacks, \\\n",
    "    validationGenerator=testGenerator, validationSteps=testNumIterations)\n"
   ]
  },
  {
   "cell_type": "markdown",
   "metadata": {},
   "source": [
    "Now, once the training is done, we can print the confusion matrix as well as the training graphs to see the evolution of the loss during epochs."
   ]
  },
  {
   "cell_type": "code",
   "execution_count": 9,
   "metadata": {},
   "outputs": [
    {
     "name": "stdout",
     "output_type": "stream",
     "text": [
      "Confusion matrix:\n",
      " [[ 964    0    2    1    0    7    2    2    2    0]\n",
      " [   0 1120    2    2    1    1    3    2    4    0]\n",
      " [  10   40  852   55    5    6   15    5   35    9]\n",
      " [   5    2   11  902    1   51    2   11   14   11]\n",
      " [   1    3    3    1  887    0   12    2   12   61]\n",
      " [  11    2    2   19   15  793    9    1   26   14]\n",
      " [  15    5    6    2    8   26  891    2    3    0]\n",
      " [   4   17   23    9    7    2    0  896    2   68]\n",
      " [   6   30    4   37   12   36    8    5  819   17]\n",
      " [   8    8    1    8   14    7    0    9    6  948]]\n"
     ]
    }
   ],
   "source": [
    "print(\"Confusion matrix:\\n\", callbacks[1].confusionMatrix)\n",
    "\n",
    "trainHistory = model.trainHistory\n",
    "trainLoss, valLoss, trainAcc, valAcc = [], [], [], []\n",
    "for epoch in range(len(trainHistory)):\n",
    "    trainLoss.append(trainHistory[epoch][\"trainMetrics\"][\"Loss\"])\n",
    "    valLoss.append(trainHistory[epoch][\"validationMetrics\"][\"Loss\"])\n",
    "    trainAcc.append(trainHistory[epoch][\"trainMetrics\"][\"Accuracy\"])\n",
    "    valAcc.append(trainHistory[epoch][\"validationMetrics\"][\"Accuracy\"])\n",
    "x = np.arange(len(trainHistory)) + 1"
   ]
  },
  {
   "cell_type": "code",
   "execution_count": 10,
   "metadata": {},
   "outputs": [
    {
     "data": {
      "image/png": "[encoded data removed]",
      "text/plain": [
       "<Figure size 432x288 with 1 Axes>"
      ]
     },
     "metadata": {},
     "output_type": "display_data"
    }
   ],
   "source": [
    "# Plot loss\n",
    "plt.figure()\n",
    "plt.plot(x, trainLoss, label=\"Train loss\")\n",
    "plt.plot(x, valLoss, label=\"Val loss\")\n",
    "plt.legend()\n",
    "plt.show()"
   ]
  },
  {
   "cell_type": "code",
   "execution_count": 11,
   "metadata": {},
   "outputs": [
    {
     "data": {
      "image/png": "[encoded data removed]",
      "text/plain": [
       "<Figure size 432x288 with 1 Axes>"
      ]
     },
     "metadata": {},
     "output_type": "display_data"
    }
   ],
   "source": [
    "# Plot accuracies\n",
    "plt.figure()\n",
    "plt.plot(x, trainAcc, label=\"Train accuracy\")\n",
    "plt.plot(x, valAcc, label=\"Val accuracy\")\n",
    "plt.legend()\n",
    "plt.show()"
   ]
  },
  {
   "cell_type": "markdown",
   "metadata": {},
   "source": [
    "Finally, load the best stored model, and perform same actions, without any training."
   ]
  },
  {
   "cell_type": "code",
   "execution_count": 13,
   "metadata": {
    "scrolled": true
   },
   "outputs": [
    {
     "name": "stdout",
     "output_type": "stream",
     "text": [
      "Succesfully loaded weights\n",
      "Testing complete. Loss: 0.32. Accuracy: 90.72\n",
      "Confusion matrix:\n",
      " [[ 964    0    2    1    0    7    2    2    2    0]\n",
      " [   0 1120    2    2    1    1    3    2    4    0]\n",
      " [  10   40  852   55    5    6   15    5   35    9]\n",
      " [   5    2   11  902    1   51    2   11   14   11]\n",
      " [   1    3    3    1  887    0   12    2   12   61]\n",
      " [  11    2    2   19   15  793    9    1   26   14]\n",
      " [  15    5    6    2    8   26  891    2    3    0]\n",
      " [   4   17   23    9    7    2    0  896    2   68]\n",
      " [   6   30    4   37   12   36    8    5  819   17]\n",
      " [   8    8    1    8   14    7    0    9    6  948]]\n"
     ]
    }
   ],
   "source": [
    "model.load_weights(\"model_best.pkl\")\n",
    "callbacks = [ConfusionMatrix(numClasses=10, categoricalLabels=True)]\n",
    "metrics = model.test_generator(testGenerator, testNumIterations, callbacks=callbacks)\n",
    "\n",
    "loss, accuracy = metrics[\"Loss\"], metrics[\"Accuracy\"]\n",
    "print(\"Testing complete. Loss: %2.2f. Accuracy: %2.2f\" % (loss, accuracy))\n",
    "print(\"Confusion matrix:\\n\", callbacks[0].confusionMatrix)\n"
   ]
  },
  {
   "cell_type": "markdown",
   "metadata": {},
   "source": [
    "Nice."
   ]
  }
 ],
 "metadata": {
  "kernelspec": {
   "display_name": "Python 3",
   "language": "python",
   "name": "python3"
  },
  "language_info": {
   "codemirror_mode": {
    "name": "ipython",
    "version": 3
   },
   "file_extension": ".py",
   "mimetype": "text/x-python",
   "name": "python",
   "nbconvert_exporter": "python",
   "pygments_lexer": "ipython3",
   "version": "3.6.5"
  }
 },
 "nbformat": 4,
 "nbformat_minor": 2
}
