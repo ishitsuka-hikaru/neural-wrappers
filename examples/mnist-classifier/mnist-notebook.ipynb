{
 "cells": [
  {
   "cell_type": "markdown",
   "metadata": {},
   "source": [
    "Implementation of the classical MNIST FC classifier\n",
    "==================================================\n",
    "\n",
    "Mirror on GitHub: https://gist.github.com/Meehai/85429f878e319a70116a9d72aaf83ac1"
   ]
  },
  {
   "cell_type": "markdown",
   "metadata": {},
   "source": [
    "First, do the imports, in our case we need the readers for Cifar10 and MNIST, as well as some built-in callbacks"
   ]
  },
  {
   "cell_type": "code",
   "execution_count": 1,
   "metadata": {},
   "outputs": [],
   "source": [
    "%matplotlib inline\n",
    "import sys\n",
    "import numpy as np\n",
    "import torch as tr\n",
    "import torch.optim as optim\n",
    "import torch.nn as nn\n",
    "import torch.nn.functional as F\n",
    "from neural_wrappers.readers import MNISTReader\n",
    "from neural_wrappers.pytorch import NeuralNetworkPyTorch, maybeCuda\n",
    "from neural_wrappers.callbacks import SaveModels, ConfusionMatrix\n",
    "from neural_wrappers.metrics import Accuracy\n",
    "import matplotlib.pyplot as plt\n"
   ]
  },
  {
   "cell_type": "markdown",
   "metadata": {},
   "source": [
    "Then, we need some global parameters, such as the path in the local directory to the dataset or the type of model used."
   ]
  },
  {
   "cell_type": "code",
   "execution_count": 2,
   "metadata": {},
   "outputs": [
    {
     "name": "stdout",
     "output_type": "stream",
     "text": [
      "[MNIST Reader] Setup complete\n",
      "[Dataset summary]\n",
      "General dataset reader. Update __str__ in your dataset for more details when using summary.\n",
      "All dims: ['images', 'labels']. Data dims: ['images']. Label dims: ['labels']\n",
      "Dim transforms: {'images': <class 'numpy.float32'>, 'labels': <function MNISTReader.<lambda> at 0x7f5f88916620>}\n",
      "Normalizers: {'images': 'standardization', 'labels': 'identity'}\n",
      "Aug Transforms(1):\n",
      "[Transformer]\n",
      "  - {'images': 'identity', 'labels': 'identity'}\n",
      "\n"
     ]
    }
   ],
   "source": [
    "datasetPath = \"/home/mihai/Public/Datasets/mnist/mnist.h5\"\n",
    "\n",
    "reader = MNISTReader(datasetPath, normalizer={\"images\" : \"standardization\"})\n",
    "print(reader.summary())"
   ]
  },
  {
   "cell_type": "markdown",
   "metadata": {},
   "source": [
    "Based on the model type, import it, using the inputShape/outputShape pair, and set the optimizer, metrics and criterion. For optimizer, simple SGD with momentum works. For criterion, the NLL is used, because the task is classification. Finally, we add Accuracy as metric (alongside Loss, which is by default) also specifying that the data is given as categorical (one-hot encoded vector)."
   ]
  },
  {
   "cell_type": "code",
   "execution_count": 3,
   "metadata": {},
   "outputs": [
    {
     "name": "stdout",
     "output_type": "stream",
     "text": [
      "[Model summary]\n",
      "General neural network architecture. Update __str__ in your model for more details when using summary.\n",
      "Parameters count: 89610. Trainable parameters: 89610.\n",
      "Metrics: 'Accuracy', 'Loss'\n",
      "Optimizer: SGD. Learning rate: 0.01, Momentum: 0.5, Dampening: 0, Weight Decay: 0, Nesterov: False\n",
      "\n"
     ]
    }
   ],
   "source": [
    "class ModelFC(NeuralNetworkPyTorch):\n",
    "    # (28, 28, 1) => (10, 1)\n",
    "    def __init__(self, inputShape, outputNumClasses):\n",
    "        super().__init__()\n",
    "\n",
    "        self.inputShapeProd = int(np.prod(np.array(inputShape)))\n",
    "        self.fc1 = nn.Linear(self.inputShapeProd, 100)\n",
    "        self.fc2 = nn.Linear(100, 100)\n",
    "        self.fc3 = nn.Linear(100, outputNumClasses)\n",
    "\n",
    "    def forward(self, x):\n",
    "        x = x.view(-1, self.inputShapeProd)\n",
    "        y1 = F.relu(self.fc1(x))\n",
    "        y2 = F.relu(self.fc2(y1))\n",
    "        y3 = self.fc3(y2)\n",
    "        return y3\n",
    "\n",
    "def lossFn(y, t):\n",
    "    # Negative log-likeklihood (used for softmax+NLL for classification), expecting targets are one-hot encoded\n",
    "    y = F.softmax(y, dim=1)\n",
    "    return tr.mean(-tr.log(y[t] + 1e-5))\n",
    "\n",
    "model = maybeCuda(ModelFC(inputShape=(28, 28, 1), outputNumClasses=10))\n",
    "model.setOptimizer(optim.SGD, lr=0.01, momentum=0.5)\n",
    "model.setMetrics({\"Accuracy\" : Accuracy(categoricalLabels=True)})\n",
    "model.setCriterion(lossFn)\n",
    "print(model.summary())"
   ]
  },
  {
   "cell_type": "markdown",
   "metadata": {},
   "source": [
    "Now, if we wish to train our model, we must set the train/validation generators, and start the training for a number of epochs."
   ]
  },
  {
   "cell_type": "code",
   "execution_count": 4,
   "metadata": {},
   "outputs": [
    {
     "name": "stdout",
     "output_type": "stream",
     "text": [
      "Training for 10 epochs...\n",
      "Epoch 1/10. Done: 10.00%. Accuracy: 90.26. Loss: 0.35. Val Accuracy: 94.18. Val Loss: 0.19. LR: 0.01000. Took: 0:00:28.030990.\n",
      "Epoch 1. Improvement from nan to 0.19\n",
      "Epoch 2/10. Done: 20.00%. Accuracy: 95.81. Loss: 0.14. Val Accuracy: 95.94. Val Loss: 0.13. LR: 0.01000. Took: 0:00:19.435847.\n",
      "Epoch 2. Improvement from 0.19 to 0.13\n",
      "Epoch 3/10. Done: 30.00%. Accuracy: 97.25. Loss: 0.10. Val Accuracy: 96.79. Val Loss: 0.10. LR: 0.01000. Took: 0:00:17.814894.\n",
      "Epoch 3. Improvement from 0.13 to 0.10\n",
      "Epoch 4/10. Done: 40.00%. Accuracy: 97.95. Loss: 0.07. Val Accuracy: 97.03. Val Loss: 0.09. LR: 0.01000. Took: 0:00:16.012691.\n",
      "Epoch 4. Improvement from 0.10 to 0.09\n",
      "Epoch 5/10. Done: 50.00%. Accuracy: 98.36. Loss: 0.06. Val Accuracy: 97.16. Val Loss: 0.09. LR: 0.01000. Took: 0:00:16.036358.\n",
      "Epoch 5. Improvement from 0.09 to 0.09\n",
      "Epoch 6/10. Done: 60.00%. Accuracy: 98.64. Loss: 0.05. Val Accuracy: 97.40. Val Loss: 0.08. LR: 0.01000. Took: 0:00:15.513549.\n",
      "Epoch 6. Improvement from 0.09 to 0.08\n",
      "Epoch 7/10. Done: 70.00%. Accuracy: 98.98. Loss: 0.04. Val Accuracy: 97.61. Val Loss: 0.08. LR: 0.01000. Took: 0:00:15.656076.\n",
      "Epoch 7. Improvement from 0.08 to 0.08\n",
      "Epoch 8/10. Done: 80.00%. Accuracy: 99.18. Loss: 0.03. Val Accuracy: 97.65. Val Loss: 0.08. LR: 0.01000. Took: 0:00:16.196125.\n",
      "Epoch 9/10. Done: 90.00%. Accuracy: 99.35. Loss: 0.03. Val Accuracy: 97.75. Val Loss: 0.08. LR: 0.01000. Took: 0:00:15.298487.\n",
      "Epoch 10/10. Done: 100.00%. Accuracy: 99.53. Loss: 0.02. Val Accuracy: 97.76. Val Loss: 0.08. LR: 0.01000. Took: 0:00:15.721503.\n"
     ]
    }
   ],
   "source": [
    "trainGenerator = reader.iterate(\"train\", miniBatchSize=20)\n",
    "trainNumIterations = reader.getNumIterations(\"train\", miniBatchSize=20)\n",
    "testGenerator = reader.iterate(\"test\", miniBatchSize=5)\n",
    "testNumIterations = reader.getNumIterations(\"test\", miniBatchSize=5)\n",
    "\n",
    "callbacks = [SaveModels(type=\"best\"), ConfusionMatrix(numClasses=10, categoricalLabels=True)]\n",
    "\n",
    "model.train_generator(trainGenerator, stepsPerEpoch=trainNumIterations, numEpochs=10, callbacks=callbacks, \\\n",
    "    validationGenerator=testGenerator, validationSteps=testNumIterations)\n"
   ]
  },
  {
   "cell_type": "markdown",
   "metadata": {},
   "source": [
    "Now, once the training is done, we can print the confusion matrix as well as the training graphs to see the evolution of the loss during epochs."
   ]
  },
  {
   "cell_type": "code",
   "execution_count": 5,
   "metadata": {},
   "outputs": [
    {
     "name": "stdout",
     "output_type": "stream",
     "text": [
      "Confusion matrix:\n",
      " [[ 970    1    1    0    0    3    1    1    3    0]\n",
      " [   0 1128    2    1    1    0    0    0    3    0]\n",
      " [   5    2 1003    6    1    0    3    7    5    0]\n",
      " [   0    0    2  986    0   10    0    4    3    5]\n",
      " [   0    0    5    1  960    0    2    3    1   10]\n",
      " [   2    0    0    4    2  879    2    0    1    2]\n",
      " [   6    3    1    0    5   15  926    1    1    0]\n",
      " [   2    5    7    0    1    0    0 1006    2    5]\n",
      " [   3    1    6    4    3    9    2    4  939    3]\n",
      " [   3    2    0    5   10    4    0    5    1  979]]\n"
     ]
    }
   ],
   "source": [
    "print(\"Confusion matrix:\\n\", callbacks[1].confusionMatrix)\n",
    "\n",
    "trainHistory = model.trainHistory\n",
    "trainLoss, valLoss, trainAcc, valAcc = [], [], [], []\n",
    "for epoch in range(len(trainHistory)):\n",
    "    trainLoss.append(trainHistory[epoch][\"trainMetrics\"][\"Loss\"])\n",
    "    valLoss.append(trainHistory[epoch][\"validationMetrics\"][\"Loss\"])\n",
    "    trainAcc.append(trainHistory[epoch][\"trainMetrics\"][\"Accuracy\"])\n",
    "    valAcc.append(trainHistory[epoch][\"validationMetrics\"][\"Accuracy\"])\n",
    "x = np.arange(len(trainHistory)) + 1"
   ]
  },
  {
   "cell_type": "code",
   "execution_count": 6,
   "metadata": {},
   "outputs": [
    {
     "data": {
      "image/png": "[encoded data removed]",
      "text/plain": [
       "<Figure size 432x288 with 1 Axes>"
      ]
     },
     "metadata": {},
     "output_type": "display_data"
    }
   ],
   "source": [
    "# Plot loss\n",
    "plt.figure()\n",
    "plt.plot(x, trainLoss, label=\"Train loss\")\n",
    "plt.plot(x, valLoss, label=\"Val loss\")\n",
    "plt.legend()\n",
    "plt.show()"
   ]
  },
  {
   "cell_type": "code",
   "execution_count": 7,
   "metadata": {},
   "outputs": [
    {
     "data": {
      "image/png": "[encoded data removed]",
      "text/plain": [
       "<Figure size 432x288 with 1 Axes>"
      ]
     },
     "metadata": {},
     "output_type": "display_data"
    }
   ],
   "source": [
    "# Plot accuracies\n",
    "plt.figure()\n",
    "plt.plot(x, trainAcc, label=\"Train accuracy\")\n",
    "plt.plot(x, valAcc, label=\"Val accuracy\")\n",
    "plt.legend()\n",
    "plt.show()"
   ]
  },
  {
   "cell_type": "markdown",
   "metadata": {},
   "source": [
    "Finally, load the best stored model, and perform same actions, without any training."
   ]
  },
  {
   "cell_type": "code",
   "execution_count": 8,
   "metadata": {
    "scrolled": true
   },
   "outputs": [
    {
     "name": "stdout",
     "output_type": "stream",
     "text": [
      "Succesfully loaded weights\n",
      "Testing complete. Loss: 0.08. Accuracy: 97.61\n",
      "Confusion matrix:\n",
      " [[ 971    1    0    0    0    4    1    1    2    0]\n",
      " [   0 1132    0    1    0    1    0    0    1    0]\n",
      " [   5    3 1003    4    2    0    3    7    5    0]\n",
      " [   0    1    2  983    0   11    0    4    3    6]\n",
      " [   1    0    5    0  962    0    2    1    0   11]\n",
      " [   2    1    0    4    2  876    2    0    3    2]\n",
      " [   7    3    1    0    5   17  923    0    2    0]\n",
      " [   1    9    8    0    1    0    1  989    3   16]\n",
      " [   4    2    4    3    3    8    2    3  941    4]\n",
      " [   4    2    0    6    9    4    0    2    1  981]]\n"
     ]
    }
   ],
   "source": [
    "model.load_weights(\"model_best.pkl\")\n",
    "callbacks = [ConfusionMatrix(numClasses=10, categoricalLabels=True)]\n",
    "metrics = model.test_generator(testGenerator, testNumIterations, callbacks=callbacks)\n",
    "\n",
    "loss, accuracy = metrics[\"Loss\"], metrics[\"Accuracy\"]\n",
    "print(\"Testing complete. Loss: %2.2f. Accuracy: %2.2f\" % (loss, accuracy))\n",
    "print(\"Confusion matrix:\\n\", callbacks[0].confusionMatrix)\n"
   ]
  },
  {
   "cell_type": "markdown",
   "metadata": {},
   "source": [
    "Nice."
   ]
  }
 ],
 "metadata": {
  "kernelspec": {
   "display_name": "Python 3",
   "language": "python",
   "name": "python3"
  },
  "language_info": {
   "codemirror_mode": {
    "name": "ipython",
    "version": 3
   },
   "file_extension": ".py",
   "mimetype": "text/x-python",
   "name": "python",
   "nbconvert_exporter": "python",
   "pygments_lexer": "ipython3",
   "version": "3.6.5"
  }
 },
 "nbformat": 4,
 "nbformat_minor": 2
}
