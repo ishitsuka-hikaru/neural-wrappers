{
 "cells": [
  {
   "cell_type": "markdown",
   "metadata": {},
   "source": [
    "Implementation of the classical MNIST FC and Conv classifier\n",
    "=================================================="
   ]
  },
  {
   "cell_type": "markdown",
   "metadata": {},
   "source": [
    "First, do the imports, in our case we need the readers for Cifar10 and MNIST, as well as some built-in callbacks"
   ]
  },
  {
   "cell_type": "code",
   "execution_count": 1,
   "metadata": {},
   "outputs": [
    {
     "name": "stderr",
     "output_type": "stream",
     "text": [
      "/usr/lib/python3.6/site-packages/h5py/__init__.py:36: FutureWarning: Conversion of the second argument of issubdtype from `float` to `np.floating` is deprecated. In future, it will be treated as `np.float64 == np.dtype(float).type`.\n",
      "  from ._conv import register_converters as _register_converters\n"
     ]
    }
   ],
   "source": [
    "%matplotlib inline\n",
    "import sys\n",
    "import numpy as np\n",
    "import torch as tr\n",
    "import torch.optim as optim\n",
    "from neural_wrappers.readers import MNISTReader, Cifar10Reader\n",
    "from neural_wrappers.pytorch import maybeCuda\n",
    "from neural_wrappers.callbacks import SaveModels, ConfusionMatrix\n",
    "from neural_wrappers.metrics import Accuracy\n",
    "import matplotlib.pyplot as plt\n",
    "\n",
    "from models import ModelFC, ModelConv, MobileNetV2"
   ]
  },
  {
   "cell_type": "markdown",
   "metadata": {},
   "source": [
    "Then, we need some global parameters, such as the path in the local directory to the dataset or the type of model used\n",
    "\n",
    "For dataset, possible values are **\"mnist\"** and **\"cifar10\"**. For model, possible values are **\"model_fc\"**, **\"model_conv\"**, **\"model_mobilenetv2\"**. The last one only works with Cifar10 Dataset."
   ]
  },
  {
   "cell_type": "code",
   "execution_count": 2,
   "metadata": {},
   "outputs": [
    {
     "name": "stdout",
     "output_type": "stream",
     "text": [
      "[MNIST Reader] Setup complete\n"
     ]
    }
   ],
   "source": [
    "dataset = \"mnist\"\n",
    "datasetPath = \"/home/mihai/Public/Datasets/mnist/mnist.h5\"\n",
    "modelType = \"model_fc\"\n",
    "\n",
    "if dataset == \"mnist\":\n",
    "    reader = MNISTReader(datasetPath)\n",
    "    inputShape, outputShape = (28, 28, 1), 10\n",
    "else:\n",
    "    reader = Cifar10Reader(datasetPath)\n",
    "    inputShape, outputShape = (32, 32, 3), 10\n"
   ]
  },
  {
   "cell_type": "markdown",
   "metadata": {},
   "source": [
    "Based on the model type, import it, using the inputShape/outputShape pair, and set the optimizer, metrics and criterion. For optimizer, simple SGD with momentum works. For criterion, the NLL is used, because the task is classification. Finally, we add Accuracy as metric (alongside Loss, which is by default) also specifying that the data is given as categorical (one-hot encoded vector)."
   ]
  },
  {
   "cell_type": "code",
   "execution_count": 3,
   "metadata": {},
   "outputs": [
    {
     "name": "stdout",
     "output_type": "stream",
     "text": [
      "[Model summary]\n",
      "General neural network architecture. Update __str__ in your model for more details when using summary.\n",
      "Parameters count: 89610. Trainable parameters: 89610.\n",
      "Metrics: 'Accuracy', 'Loss'\n",
      "Optimizer: SGD. Learning rate: 0.01, Momentum: 0.5, Dampening: 0, Weight Decay: 0, Nesterov: False\n",
      "\n"
     ]
    }
   ],
   "source": [
    "if modelType == \"model_fc\":\n",
    "    model = ModelFC(inputShape, outputShape)\n",
    "elif modelType == \"model_conv\":\n",
    "    model = ModelConv(inputShape, outputShape)\n",
    "else:\n",
    "    modelType = MobileNetV2()\n",
    "model = maybeCuda(model)\n",
    "\n",
    "model.setOptimizer(optim.SGD, lr=0.01, momentum=0.5)\n",
    "model.setMetrics({\"Accuracy\" : Accuracy(categoricalLabels=True)})\n",
    "# Negative log-likeklihood (used for softmax+NLL for classification), expecting targets are one-hot encoded\n",
    "model.setCriterion(lambda y, t : tr.mean(-tr.log(y[t] + 1e-5)))\n",
    "print(model.summary())"
   ]
  },
  {
   "cell_type": "markdown",
   "metadata": {},
   "source": [
    "Now, if we wish to train our model, we must set the train/validation generators, and start the training for a number of epochs."
   ]
  },
  {
   "cell_type": "code",
   "execution_count": 4,
   "metadata": {},
   "outputs": [
    {
     "name": "stdout",
     "output_type": "stream",
     "text": [
      "Training for 10 epochs...\n",
      "Epoch 1/10. Done: 10.00%. Accuracy: 89.36. Loss: 0.37. Val Accuracy: 89.54. Val Loss: 0.35. Took: 0:00:14.796543.\n",
      "Epoch 1. Improvement from nan to 0.35\n",
      "Epoch 2/10. Done: 20.00%. Accuracy: 91.49. Loss: 0.30. Val Accuracy: 89.98. Val Loss: 0.34. Took: 0:00:09.306701.\n",
      "Epoch 2. Improvement from 0.35 to 0.34\n",
      "Epoch 3/10. Done: 30.00%. Accuracy: 91.85. Loss: 0.29. Val Accuracy: 90.15. Val Loss: 0.33. Took: 0:00:09.497993.\n",
      "Epoch 3. Improvement from 0.34 to 0.33\n",
      "Epoch 4/10. Done: 40.00%. Accuracy: 92.06. Loss: 0.28. Val Accuracy: 90.31. Val Loss: 0.33. Took: 0:00:09.264699.\n",
      "Epoch 4. Improvement from 0.33 to 0.33\n",
      "Epoch 5/10. Done: 50.00%. Accuracy: 92.15. Loss: 0.28. Val Accuracy: 90.42. Val Loss: 0.32. Took: 0:00:09.484992.\n",
      "Epoch 5. Improvement from 0.33 to 0.32\n",
      "Epoch 6/10. Done: 60.00%. Accuracy: 92.25. Loss: 0.28. Val Accuracy: 90.51. Val Loss: 0.32. Took: 0:00:09.629701.\n",
      "Epoch 6. Improvement from 0.32 to 0.32\n",
      "Epoch 7/10. Done: 70.00%. Accuracy: 92.33. Loss: 0.27. Val Accuracy: 90.63. Val Loss: 0.32. Took: 0:00:17.309174.\n",
      "Epoch 7. Improvement from 0.32 to 0.32\n",
      "Epoch 8/10. Done: 80.00%. Accuracy: 92.43. Loss: 0.27. Val Accuracy: 90.68. Val Loss: 0.32. Took: 0:00:08.722702.\n",
      "Epoch 8. Improvement from 0.32 to 0.32\n",
      "Epoch 9/10. Done: 90.00%. Accuracy: 92.48. Loss: 0.27. Val Accuracy: 90.75. Val Loss: 0.32. Took: 0:00:16.493875.\n",
      "Epoch 9. Improvement from 0.32 to 0.32\n",
      "Epoch 10/10. Done: 100.00%. Accuracy: 92.52. Loss: 0.27. Val Accuracy: 90.77. Val Loss: 0.32. Took: 0:00:17.853676.\n",
      "Epoch 10. Improvement from 0.32 to 0.32\n"
     ]
    }
   ],
   "source": [
    "trainGenerator = reader.iterate(\"train\", miniBatchSize=20)\n",
    "trainNumIterations = reader.getNumIterations(\"train\", miniBatchSize=20)\n",
    "testGenerator = reader.iterate(\"test\", miniBatchSize=5)\n",
    "testNumIterations = reader.getNumIterations(\"test\", miniBatchSize=5)\n",
    "\n",
    "callbacks = [SaveModels(type=\"best\"), ConfusionMatrix(numClasses=10)]\n",
    "\n",
    "model.train_generator(trainGenerator, stepsPerEpoch=trainNumIterations, numEpochs=10, callbacks=callbacks, \\\n",
    "    validationGenerator=testGenerator, validationSteps=testNumIterations)\n"
   ]
  },
  {
   "cell_type": "markdown",
   "metadata": {},
   "source": [
    "Now, once the training is done, we can print the confusion matrix as well as the training graphs to see the evolution of the loss during epochs."
   ]
  },
  {
   "cell_type": "code",
   "execution_count": 5,
   "metadata": {},
   "outputs": [
    {
     "name": "stdout",
     "output_type": "stream",
     "text": [
      "Confusion matrix:\n",
      " [[ 966    0    2    1    0    5    2    2    2    0]\n",
      " [   0 1120    2    2    1    1    3    2    4    0]\n",
      " [  10   40  856   52    5    6   15    5   34    9]\n",
      " [   5    2   12  906    1   49    2   10   13   10]\n",
      " [   1    3    3    1  883    0   12    3   13   63]\n",
      " [  11    3    2   18   15  793    9    2   26   13]\n",
      " [  16    5    6    2    8   26  890    2    3    0]\n",
      " [   3   16   22    9    7    2    0  898    2   69]\n",
      " [   6   31    4   36   13   37    7    5  818   17]\n",
      " [   8    8    1    8   15    7    0    9    6  947]]\n"
     ]
    }
   ],
   "source": [
    "print(\"Confusion matrix:\\n\", callbacks[1].confusionMatrix)\n",
    "\n",
    "trainHistory = model.trainHistory\n",
    "trainLoss, valLoss, trainAcc, valAcc = [], [], [], []\n",
    "for epoch in range(len(trainHistory)):\n",
    "    trainLoss.append(trainHistory[epoch][\"trainMetrics\"][\"Loss\"])\n",
    "    valLoss.append(trainHistory[epoch][\"validationMetrics\"][\"Loss\"])\n",
    "    trainAcc.append(trainHistory[epoch][\"trainMetrics\"][\"Accuracy\"])\n",
    "    valAcc.append(trainHistory[epoch][\"validationMetrics\"][\"Accuracy\"])\n",
    "x = np.arange(len(trainHistory)) + 1"
   ]
  },
  {
   "cell_type": "code",
   "execution_count": 6,
   "metadata": {},
   "outputs": [
    {
     "data": {
      "image/png": "[encoded data removed]",
      "text/plain": [
       "<matplotlib.figure.Figure at 0x7fcd2f0b10f0>"
      ]
     },
     "metadata": {},
     "output_type": "display_data"
    }
   ],
   "source": [
    "# Plot loss\n",
    "plt.figure()\n",
    "plt.plot(x, trainLoss, label=\"Train loss\")\n",
    "plt.plot(x, valLoss, label=\"Val loss\")\n",
    "plt.legend()\n",
    "plt.show()"
   ]
  },
  {
   "cell_type": "code",
   "execution_count": 7,
   "metadata": {},
   "outputs": [
    {
     "data": {
      "image/png": "[encoded data removed]",
      "text/plain": [
       "<matplotlib.figure.Figure at 0x7fcd2dfc6cf8>"
      ]
     },
     "metadata": {},
     "output_type": "display_data"
    }
   ],
   "source": [
    "# Plot accuracies\n",
    "plt.figure()\n",
    "plt.plot(x, trainAcc, label=\"Train accuracy\")\n",
    "plt.plot(x, valAcc, label=\"Val accuracy\")\n",
    "plt.legend()\n",
    "plt.show()"
   ]
  },
  {
   "cell_type": "markdown",
   "metadata": {},
   "source": [
    "Finally, load the best stored model, and perform same actions, without any training."
   ]
  },
  {
   "cell_type": "code",
   "execution_count": 8,
   "metadata": {
    "scrolled": true
   },
   "outputs": [
    {
     "name": "stdout",
     "output_type": "stream",
     "text": [
      "Succesfully loaded weights\n",
      "Testing complete. Loss: 0.32. Accuracy: 90.77\n",
      "Confusion matrix:\n",
      " [[ 966    0    2    1    0    5    2    2    2    0]\n",
      " [   0 1120    2    2    1    1    3    2    4    0]\n",
      " [  10   40  856   52    5    6   15    5   34    9]\n",
      " [   5    2   12  906    1   49    2   10   13   10]\n",
      " [   1    3    3    1  883    0   12    3   13   63]\n",
      " [  11    3    2   18   15  793    9    2   26   13]\n",
      " [  16    5    6    2    8   26  890    2    3    0]\n",
      " [   3   16   22    9    7    2    0  898    2   69]\n",
      " [   6   31    4   36   13   37    7    5  818   17]\n",
      " [   8    8    1    8   15    7    0    9    6  947]]\n"
     ]
    }
   ],
   "source": [
    "model.load_weights(\"model_best.pkl\")\n",
    "callbacks = [ConfusionMatrix(numClasses=10)]\n",
    "metrics = model.test_generator(testGenerator, testNumIterations, callbacks=callbacks)\n",
    "\n",
    "loss, accuracy = metrics[\"Loss\"], metrics[\"Accuracy\"]\n",
    "print(\"Testing complete. Loss: %2.2f. Accuracy: %2.2f\" % (loss, accuracy))\n",
    "print(\"Confusion matrix:\\n\", callbacks[0].confusionMatrix)\n"
   ]
  },
  {
   "cell_type": "markdown",
   "metadata": {},
   "source": [
    "Nice."
   ]
  }
 ],
 "metadata": {
  "kernelspec": {
   "display_name": "Python 3",
   "language": "python",
   "name": "python3"
  },
  "language_info": {
   "codemirror_mode": {
    "name": "ipython",
    "version": 3
   },
   "file_extension": ".py",
   "mimetype": "text/x-python",
   "name": "python",
   "nbconvert_exporter": "python",
   "pygments_lexer": "ipython3",
   "version": "3.6.4"
  }
 },
 "nbformat": 4,
 "nbformat_minor": 2
}
